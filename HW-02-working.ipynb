{
 "cells": [
  {
   "cell_type": "raw",
   "metadata": {},
   "source": [
    "---\n",
    "format: \n",
    "    html: \n",
    "        embed-resources: true\n",
    "--- "
   ]
  },
  {
   "cell_type": "markdown",
   "metadata": {},
   "source": [
    "# Homework-2: \n",
    "\n",
    "`ANN training in Keras or Pytorch & Hyper-parameter tuning`\n",
    "\n",
    "## Overview \n",
    "\n",
    "* Classification is one of the most common forms of supervised machine learning \n",
    "* In this homework we will explore \"model tuning\" for the case of a multi-class classification problem, as applied the MNIST data set\n",
    "* `You can do this assignment in either Keras OR PyTorch` (or both), it is your choice.\n",
    "\n",
    "## Submission \n",
    "\n",
    "* You need to upload TWO documents to Canvas when you are done\n",
    "  * (1) A PDF (or HTML) of the completed form of the `HW-2.ipynb` document \n",
    "* The final uploaded version should NOT have any code-errors present \n",
    "* All outputs must be visible in the uploaded version, including code-cell outputs, images, graphs, etc\n",
    "\n",
    "`IMPORTANT`: THERE ARE MANY WAYS TO DO THIS, SO FEEL FREE TO DEVIATE SLIGHTLY FROM THE EXACT DETAILS, BUT THE OVERALL RESULT AND FLOW SHOULD MATCH WHAT IS OUTLINED BELOW."
   ]
  },
  {
   "cell_type": "markdown",
   "metadata": {},
   "source": [
    "## HW-2.1: Data preparation\n",
    "\n",
    "* Normalize the data as needed\n",
    "* Partition data into training, validation, and test (i.e. leave one out CV)\n",
    "  * One option to do this is to give these arrays global scope so they are seen inside the training function (so they don't need to be passed to functions)\n",
    "* **Optional but recommended:** Create a K-fold cross validation data set, rather than just doing leave one out\n",
    "* Do any other preprocessing you feel is needed"
   ]
  },
  {
   "cell_type": "markdown",
   "metadata": {},
   "source": [
    "### Using Fashion MNIST\n",
    "\n",
    "99.999% sure Dr. Hickman said it was ok to use Fashion MNIST instead of regular MNIST, which I will be doing."
   ]
  },
  {
   "cell_type": "code",
   "execution_count": 6,
   "metadata": {},
   "outputs": [],
   "source": [
    "import torch\n",
    "from torch import nn\n",
    "\n",
    "import torchvision\n",
    "from torchvision import transforms\n",
    "from torchvision import datasets\n",
    "from torchvision.transforms import ToTensor\n",
    "\n",
    "from tqdm.auto import tqdm\n",
    "\n",
    "import numpy as np"
   ]
  },
  {
   "cell_type": "markdown",
   "metadata": {},
   "source": [
    "Normalizing the data below using ToTensor()"
   ]
  },
  {
   "cell_type": "code",
   "execution_count": 2,
   "metadata": {},
   "outputs": [
    {
     "name": "stdout",
     "output_type": "stream",
     "text": [
      "Downloading http://fashion-mnist.s3-website.eu-central-1.amazonaws.com/train-images-idx3-ubyte.gz\n",
      "Downloading http://fashion-mnist.s3-website.eu-central-1.amazonaws.com/train-images-idx3-ubyte.gz to data\\FashionMNIST\\raw\\train-images-idx3-ubyte.gz\n"
     ]
    },
    {
     "data": {
      "application/vnd.jupyter.widget-view+json": {
       "model_id": "424486c8c8554e559c54ff9a4f512aec",
       "version_major": 2,
       "version_minor": 0
      },
      "text/plain": [
       "  0%|          | 0/26421880 [00:00<?, ?it/s]"
      ]
     },
     "metadata": {},
     "output_type": "display_data"
    },
    {
     "name": "stdout",
     "output_type": "stream",
     "text": [
      "Extracting data\\FashionMNIST\\raw\\train-images-idx3-ubyte.gz to data\\FashionMNIST\\raw\n",
      "\n",
      "Downloading http://fashion-mnist.s3-website.eu-central-1.amazonaws.com/train-labels-idx1-ubyte.gz\n",
      "Downloading http://fashion-mnist.s3-website.eu-central-1.amazonaws.com/train-labels-idx1-ubyte.gz to data\\FashionMNIST\\raw\\train-labels-idx1-ubyte.gz\n"
     ]
    },
    {
     "data": {
      "application/vnd.jupyter.widget-view+json": {
       "model_id": "d77e79fc66da4ffe91ace7d7b5461d16",
       "version_major": 2,
       "version_minor": 0
      },
      "text/plain": [
       "  0%|          | 0/29515 [00:00<?, ?it/s]"
      ]
     },
     "metadata": {},
     "output_type": "display_data"
    },
    {
     "name": "stdout",
     "output_type": "stream",
     "text": [
      "Extracting data\\FashionMNIST\\raw\\train-labels-idx1-ubyte.gz to data\\FashionMNIST\\raw\n",
      "\n",
      "Downloading http://fashion-mnist.s3-website.eu-central-1.amazonaws.com/t10k-images-idx3-ubyte.gz\n",
      "Downloading http://fashion-mnist.s3-website.eu-central-1.amazonaws.com/t10k-images-idx3-ubyte.gz to data\\FashionMNIST\\raw\\t10k-images-idx3-ubyte.gz\n"
     ]
    },
    {
     "data": {
      "application/vnd.jupyter.widget-view+json": {
       "model_id": "1fa3f86387c848a39997dcb1bec0107d",
       "version_major": 2,
       "version_minor": 0
      },
      "text/plain": [
       "  0%|          | 0/4422102 [00:00<?, ?it/s]"
      ]
     },
     "metadata": {},
     "output_type": "display_data"
    },
    {
     "name": "stdout",
     "output_type": "stream",
     "text": [
      "Extracting data\\FashionMNIST\\raw\\t10k-images-idx3-ubyte.gz to data\\FashionMNIST\\raw\n",
      "\n",
      "Downloading http://fashion-mnist.s3-website.eu-central-1.amazonaws.com/t10k-labels-idx1-ubyte.gz\n",
      "Downloading http://fashion-mnist.s3-website.eu-central-1.amazonaws.com/t10k-labels-idx1-ubyte.gz to data\\FashionMNIST\\raw\\t10k-labels-idx1-ubyte.gz\n"
     ]
    },
    {
     "data": {
      "application/vnd.jupyter.widget-view+json": {
       "model_id": "96e2d2ed73f74e9cb6d00e637a0a9091",
       "version_major": 2,
       "version_minor": 0
      },
      "text/plain": [
       "  0%|          | 0/5148 [00:00<?, ?it/s]"
      ]
     },
     "metadata": {},
     "output_type": "display_data"
    },
    {
     "name": "stdout",
     "output_type": "stream",
     "text": [
      "Extracting data\\FashionMNIST\\raw\\t10k-labels-idx1-ubyte.gz to data\\FashionMNIST\\raw\n",
      "\n"
     ]
    }
   ],
   "source": [
    "train_data = datasets.FashionMNIST(\n",
    "    root=\"data\",\n",
    "    train=True,\n",
    "    download=True,\n",
    "    transform=torchvision.transforms.ToTensor(),\n",
    "    target_transform=None\n",
    ")\n",
    "\n",
    "test_data = datasets.FashionMNIST(\n",
    "    root=\"data\",\n",
    "    train=False,\n",
    "    download=True,\n",
    "    transform=ToTensor(),\n",
    "    target_transform=None\n",
    ")\n",
    "\n",
    "class_names = train_data.classes"
   ]
  },
  {
   "cell_type": "code",
   "execution_count": 7,
   "metadata": {},
   "outputs": [
    {
     "name": "stdout",
     "output_type": "stream",
     "text": [
      "['T-shirt/top', 'Trouser', 'Pullover', 'Dress', 'Coat', 'Sandal', 'Shirt', 'Sneaker', 'Bag', 'Ankle boot']\n"
     ]
    }
   ],
   "source": [
    "print(class_names)"
   ]
  },
  {
   "cell_type": "code",
   "execution_count": 21,
   "metadata": {},
   "outputs": [
    {
     "name": "stdout",
     "output_type": "stream",
     "text": [
      "Length Train: 60000\n",
      "Length Test: 10000\n"
     ]
    }
   ],
   "source": [
    "print(f'Length Train: {len(train_data)}')\n",
    "print(f'Length Test: {len(test_data)}')"
   ]
  },
  {
   "cell_type": "code",
   "execution_count": 36,
   "metadata": {},
   "outputs": [
    {
     "ename": "TypeError",
     "evalue": "randperm() received an invalid combination of arguments - got (float, generator=torch._C.Generator), but expected one of:\n * (int n, *, torch.Generator generator, Tensor out, torch.dtype dtype, torch.layout layout, torch.device device, bool pin_memory, bool requires_grad)\n * (int n, *, Tensor out, torch.dtype dtype, torch.layout layout, torch.device device, bool pin_memory, bool requires_grad)\n",
     "output_type": "error",
     "traceback": [
      "\u001b[1;31m---------------------------------------------------------------------------\u001b[0m",
      "\u001b[1;31mTypeError\u001b[0m                                 Traceback (most recent call last)",
      "Input \u001b[1;32mIn [36]\u001b[0m, in \u001b[0;36m<cell line: 7>\u001b[1;34m()\u001b[0m\n\u001b[0;32m      4\u001b[0m val_size \u001b[38;5;241m=\u001b[39m \u001b[38;5;28mlen\u001b[39m(train_data) \u001b[38;5;241m-\u001b[39m train_size\n\u001b[0;32m      6\u001b[0m \u001b[38;5;66;03m#make val 10% of train\u001b[39;00m\n\u001b[1;32m----> 7\u001b[0m train_data, val_data \u001b[38;5;241m=\u001b[39m \u001b[43mrandom_split\u001b[49m\u001b[43m(\u001b[49m\u001b[43mtrain_data\u001b[49m\u001b[43m,\u001b[49m\u001b[43m \u001b[49m\u001b[43mlengths\u001b[49m\u001b[38;5;241;43m=\u001b[39;49m\u001b[43m[\u001b[49m\u001b[43mtrain_size\u001b[49m\u001b[43m,\u001b[49m\u001b[43m \u001b[49m\u001b[43mval_size\u001b[49m\u001b[43m]\u001b[49m\u001b[43m)\u001b[49m\n",
      "File \u001b[1;32m~\\AppData\\Local\\Packages\\PythonSoftwareFoundation.Python.3.10_qbz5n2kfra8p0\\LocalCache\\local-packages\\Python310\\site-packages\\torch\\utils\\data\\dataset.py:349\u001b[0m, in \u001b[0;36mrandom_split\u001b[1;34m(dataset, lengths, generator)\u001b[0m\n\u001b[0;32m    346\u001b[0m \u001b[38;5;28;01mif\u001b[39;00m \u001b[38;5;28msum\u001b[39m(lengths) \u001b[38;5;241m!=\u001b[39m \u001b[38;5;28mlen\u001b[39m(dataset):    \u001b[38;5;66;03m# type: ignore[arg-type]\u001b[39;00m\n\u001b[0;32m    347\u001b[0m     \u001b[38;5;28;01mraise\u001b[39;00m \u001b[38;5;167;01mValueError\u001b[39;00m(\u001b[38;5;124m\"\u001b[39m\u001b[38;5;124mSum of input lengths does not equal the length of the input dataset!\u001b[39m\u001b[38;5;124m\"\u001b[39m)\n\u001b[1;32m--> 349\u001b[0m indices \u001b[38;5;241m=\u001b[39m \u001b[43mrandperm\u001b[49m\u001b[43m(\u001b[49m\u001b[38;5;28;43msum\u001b[39;49m\u001b[43m(\u001b[49m\u001b[43mlengths\u001b[49m\u001b[43m)\u001b[49m\u001b[43m,\u001b[49m\u001b[43m \u001b[49m\u001b[43mgenerator\u001b[49m\u001b[38;5;241;43m=\u001b[39;49m\u001b[43mgenerator\u001b[49m\u001b[43m)\u001b[49m\u001b[38;5;241m.\u001b[39mtolist()  \u001b[38;5;66;03m# type: ignore[call-overload]\u001b[39;00m\n\u001b[0;32m    350\u001b[0m \u001b[38;5;28;01mreturn\u001b[39;00m [Subset(dataset, indices[offset \u001b[38;5;241m-\u001b[39m length : offset]) \u001b[38;5;28;01mfor\u001b[39;00m offset, length \u001b[38;5;129;01min\u001b[39;00m \u001b[38;5;28mzip\u001b[39m(_accumulate(lengths), lengths)]\n",
      "\u001b[1;31mTypeError\u001b[0m: randperm() received an invalid combination of arguments - got (float, generator=torch._C.Generator), but expected one of:\n * (int n, *, torch.Generator generator, Tensor out, torch.dtype dtype, torch.layout layout, torch.device device, bool pin_memory, bool requires_grad)\n * (int n, *, Tensor out, torch.dtype dtype, torch.layout layout, torch.device device, bool pin_memory, bool requires_grad)\n"
     ]
    }
   ],
   "source": [
    "from torch.utils.data import random_split\n",
    "\n",
    "train_size = .9 * len(train_data)\n",
    "val_size = len(train_data) - train_size\n",
    "\n",
    "#make val 10% of train\n",
    "train_data, val_data = random_split(train_data, lengths=[train_size, val_size])"
   ]
  },
  {
   "cell_type": "code",
   "execution_count": 37,
   "metadata": {},
   "outputs": [
    {
     "name": "stdout",
     "output_type": "stream",
     "text": [
      "Length Train: 54000\n",
      "Length Val: 6000\n"
     ]
    }
   ],
   "source": [
    "print(f'Length Train: {len(train_data)}')\n",
    "print(f'Length Val: {len(val_data)}')"
   ]
  },
  {
   "cell_type": "markdown",
   "metadata": {},
   "source": [
    "Little heavy on the test data, so I went with just 10% of the traing data for validation"
   ]
  },
  {
   "cell_type": "code",
   "execution_count": 35,
   "metadata": {},
   "outputs": [
    {
     "data": {
      "text/plain": [
       "(<torch.utils.data.dataloader.DataLoader at 0x2da1719ae00>,\n",
       " <torch.utils.data.dataloader.DataLoader at 0x2da1719a260>,\n",
       " <torch.utils.data.dataloader.DataLoader at 0x2da1719aad0>)"
      ]
     },
     "execution_count": 35,
     "metadata": {},
     "output_type": "execute_result"
    }
   ],
   "source": [
    "from torch.utils.data import DataLoader\n",
    "BATCH_SIZE = 32\n",
    "\n",
    "train_dataloader = DataLoader(dataset=train_data,\n",
    "                              batch_size=BATCH_SIZE,\n",
    "                              shuffle=True)\n",
    "\n",
    "val_dataloader = DataLoader(dataset=val_data,\n",
    "                            batch_size=BATCH_SIZE,\n",
    "                            shuffle=True)\n",
    "\n",
    "test_dataloader = DataLoader(dataset=test_data,\n",
    "                              batch_size=BATCH_SIZE)\n",
    "\n",
    "train_dataloader, val_dataloader, test_dataloader"
   ]
  },
  {
   "cell_type": "code",
   "execution_count": 11,
   "metadata": {},
   "outputs": [
    {
     "data": {
      "text/plain": [
       "'cpu'"
      ]
     },
     "execution_count": 11,
     "metadata": {},
     "output_type": "execute_result"
    }
   ],
   "source": [
    "device = \"cuda\" if torch.cuda.is_available() else \"cpu\"\n",
    "device"
   ]
  },
  {
   "cell_type": "markdown",
   "metadata": {},
   "source": [
    "Doing some visualization and shape printing below to make sure is loaded as expected. "
   ]
  },
  {
   "cell_type": "code",
   "execution_count": null,
   "metadata": {},
   "outputs": [],
   "source": [
    "import random\n",
    "random.seed(42)\n",
    "train_samples = []\n",
    "train_labels = []\n",
    "\n",
    "val_samples = []\n",
    "val_labels = []\n",
    "\n",
    "test_samples = []\n",
    "test_labels = []\n",
    "for sample, label in random.sample(list(train_data), k=3):\n",
    "  train_samples.append(sample)\n",
    "  train_labels.append(label)\n",
    "\n",
    "for sample, label in random.sample(list(val_data), k=3):\n",
    "  val_samples.append(sample)\n",
    "  val_labels.append(label)\n",
    "\n",
    "for sample, label in random.sample(list(test_data), k=3):\n",
    "  test_samples.append(sample)\n",
    "  test_labels.append(label)"
   ]
  },
  {
   "cell_type": "code",
   "execution_count": 31,
   "metadata": {},
   "outputs": [
    {
     "name": "stdout",
     "output_type": "stream",
     "text": [
      "train shape: 3\n",
      "val shape: torch.Size([1, 28, 28])\n",
      "test shape: torch.Size([1, 28, 28])\n"
     ]
    }
   ],
   "source": [
    "\n",
    "print(f'train length: {len(train_samples)}')\n",
    "print(f'val shape 0: {val_samples[0].shape}')\n",
    "print(f'test shape 2: {test_samples[2].shape}')"
   ]
  },
  {
   "cell_type": "markdown",
   "metadata": {},
   "source": [
    "Going to do a little visualization just to make sure the data is how I expect "
   ]
  },
  {
   "cell_type": "code",
   "execution_count": 27,
   "metadata": {},
   "outputs": [
    {
     "data": {
      "text/plain": [
       "Text(0.5, 1.0, 'Trouser')"
      ]
     },
     "execution_count": 27,
     "metadata": {},
     "output_type": "execute_result"
    },
    {
     "data": {
      "image/png": "[encoded data removed]",
      "text/plain": [
       "<Figure size 432x288 with 1 Axes>"
      ]
     },
     "metadata": {
      "needs_background": "light"
     },
     "output_type": "display_data"
    }
   ],
   "source": [
    "import matplotlib.pyplot as plt\n",
    "import seaborn as sns\n",
    "\n",
    "plt.imshow(train_samples[0].squeeze(), cmap='gray')\n",
    "plt.title(class_names[train_labels[0]])"
   ]
  },
  {
   "cell_type": "code",
   "execution_count": 32,
   "metadata": {},
   "outputs": [
    {
     "data": {
      "text/plain": [
       "Text(0.5, 1.0, 'Sneaker')"
      ]
     },
     "execution_count": 32,
     "metadata": {},
     "output_type": "execute_result"
    },
    {
     "data": {
      "image/png": "[encoded data removed]",
      "text/plain": [
       "<Figure size 432x288 with 1 Axes>"
      ]
     },
     "metadata": {
      "needs_background": "light"
     },
     "output_type": "display_data"
    }
   ],
   "source": [
    "plt.imshow(val_samples[0].squeeze(), cmap='gray')\n",
    "plt.title(class_names[val_labels[0]])"
   ]
  },
  {
   "cell_type": "code",
   "execution_count": 33,
   "metadata": {},
   "outputs": [
    {
     "data": {
      "text/plain": [
       "Text(0.5, 1.0, 'T-shirt/top')"
      ]
     },
     "execution_count": 33,
     "metadata": {},
     "output_type": "execute_result"
    },
    {
     "data": {
      "image/png": "[encoded data removed]",
      "text/plain": [
       "<Figure size 432x288 with 1 Axes>"
      ]
     },
     "metadata": {
      "needs_background": "light"
     },
     "output_type": "display_data"
    }
   ],
   "source": [
    "plt.imshow(test_samples[0].squeeze(), cmap='gray')\n",
    "plt.title(class_names[test_labels[0]])"
   ]
  },
  {
   "cell_type": "markdown",
   "metadata": {},
   "source": [
    "## HW-2.2: Generalized model\n",
    "\n",
    "* Create a `General` model function (or class) that takes hyper-parameters and evaluates the model\n",
    "  * The function should work with a set of hyper parameters than can be easily be controlled and varied by the user (for later parameter tuning)\n",
    "  * This should work for the training, test, and validation set \n",
    "* Feel free to recycle code from the lab assignments and demo's  \n",
    "* Use the deep learning best practices that we discussed in class. \n",
    "* Document what is going on in the code, as needed, with narrative markdown text between cells."
   ]
  },
  {
   "cell_type": "markdown",
   "metadata": {},
   "source": [
    "Going to use a resnet like architecture for the model."
   ]
  },
  {
   "cell_type": "code",
   "execution_count": null,
   "metadata": {},
   "outputs": [],
   "source": [
    "import torch.nn as nn\n",
    "\n",
    "class BasicResBlock(nn.Module):\n",
    "    \"\"\"\n",
    "    A residual block for a ResNet model with two convolutional layers, a skip connection, and dropout.\n",
    "    \"\"\"\n",
    "    def __init__(self, in_channels, out_channels, stride=1, dropout=0.25, padding=2):\n",
    "        super().__init__()\n",
    "        #conv layer 1\n",
    "        self.conv1 = nn.Conv2d(in_channels, out_channels, kernel_size=3, \n",
    "                               stride=stride, padding=padding, bias=False)\n",
    "        self.bn1 = nn.BatchNorm2d(out_channels)\n",
    "        self.relu = nn.ReLU(inplace=True)\n",
    "        self.dropout = nn.Dropout(p=dropout)\n",
    "        \n",
    "        #conv layer 2\n",
    "        self.conv2 = nn.Conv2d(out_channels, out_channels, kernel_size=3, \n",
    "                               stride=1, padding=padding, bias=False)\n",
    "        self.bn2 = nn.BatchNorm2d(out_channels)\n",
    "\n",
    "        #shortcut connection\n",
    "        self.shortcut = nn.Sequential()\n",
    "        if stride != 1 or in_channels != out_channels:\n",
    "            self.shortcut = nn.Sequential(\n",
    "                nn.Conv2d(in_channels, out_channels, kernel_size=1, stride=stride, bias=False),\n",
    "                nn.BatchNorm2d(out_channels)\n",
    "            )\n",
    "\n",
    "    def forward(self, x):\n",
    "        out = self.conv1(x)\n",
    "        out = self.bn1(out)\n",
    "        out = self.relu(out)\n",
    "        out = self.dropout(out)  \n",
    "\n",
    "        out = self.conv2(out)\n",
    "        out = self.bn2(out)\n",
    "        out += self.shortcut(x)  \n",
    "        out = self.relu(out)\n",
    "        return out\n",
    "\n",
    "class FashionMNISTResNet(nn.Module):\n",
    "    \"\"\"\n",
    "    A simple ResNet-like model for Fashion MNIST\n",
    "    \"\"\"\n",
    "    def __init__(self, input_shape, channels, output_shape):\n",
    "        super().__init__()\n",
    "        self.conv1 = nn.Conv2d(input_shape, channels[0], kernel_size=3, stride=1, padding=1)\n",
    "        self.bn1 = nn.BatchNorm2d(channels[0])\n",
    "        self.blocks = nn.Sequential(*[BasicResBlock(channels[i], channels[i+1], stride=2 if i else 1)\n",
    "                                      for i in range(len(channels)-1)])\n",
    "        self.linear = nn.Linear(channels[-1], output_shape)\n",
    "\n",
    "    def forward(self, x):\n",
    "        out = nn.ReLU()(self.bn1(self.conv1(x)))\n",
    "        out = self.blocks(out)\n",
    "        out = nn.AdaptiveAvgPool2d((1, 1))(out) #global average pooling\n",
    "        out = out.view(out.size(0), -1)\n",
    "        out = self.linear(out)\n",
    "        return out\n"
   ]
  },
  {
   "cell_type": "markdown",
   "metadata": {},
   "source": [
    "## HW-2.3: Model training function\n",
    "\n",
    "* You can do this in either a function (or python class), or however you think is best. \n",
    "* **Create a training function** (or class) that takes hyper-parameter choices and trains the model\n",
    "  * If you are doing \"leave one out\", your training function only needs to do one training per hyper-parameter choice\n",
    "  * If you are doing K-fold cross validation, you should train the model K times for each hyper-parameter choice, and report the average result cross the training runs at the end (this is technically a better practice but requires more computation). \n",
    "  * Use a dense feed forward ANN model, with the correct output layer activation, and correct loss function\n",
    "  * `You MUST use early stopping` inside the function, otherwise it defeats the point\n",
    "  * **Have at least the following hyper-parameters as inputs to this function** \n",
    "    * L1 regularization constant, L2 regularization constant, dropout rate \n",
    "    * Learning rate\n",
    "    * Weight Initialization: Fully random vs Xavier Weight Initialization\n",
    "    * Hidden layer activation function choice (use relu, sigmoid, or tanh)\n",
    "    * Number and size of ANN hidden layers \n",
    "    * Optimizer choice, have at least three included (Adam, SGD, or RmsProp)\n",
    "    * You can wrap all of the hyper-parameter arguments into a dictionary, or do it however you want  \n",
    "  * **Visualization**\n",
    "    * Include a boolean parameter as a function input that controls whether visualization is created or not\n",
    "    * If `true`, Monitor training and validation throughout training by plotting\n",
    "    * Report a confusion matrix \n",
    "  * Return the final training and validation error (averaged if using K-fold)\n",
    "    * again, you must use early stopping to report the best training/validation loss without over-fitting\n",
    "* Depending how you do this, it can be a lot of computation, start small and scale up and consider using Co-lab \n",
    "  "
   ]
  },
  {
   "cell_type": "code",
   "execution_count": null,
   "metadata": {},
   "outputs": [],
   "source": [
    "from sklearn.metrics import accuracy_score, confusion_matrix\n",
    "\n",
    "import torch\n",
    "import torch.nn as nn\n",
    "import torch.optim as optim\n",
    "from torch.optim.lr_scheduler import ReduceLROnPlateau\n",
    "from sklearn.metrics import confusion_matrix\n",
    "import numpy as np\n",
    "import matplotlib.pyplot as plt\n",
    "\n",
    "def train_model(model, dataloaders, criterion, optimizer, scheduler, num_epochs=25, early_stopping_patience=10, visualize=True):\n",
    "    \"\"\"\n",
    "    Trains a given model based on the provided parameters and data.\n",
    "\n",
    "    Parameters:\n",
    "    - model: The neural network model to train.\n",
    "    - dataloaders: A dictionary containing 'train' and 'val' DataLoader objects.\n",
    "    - criterion: Loss function.\n",
    "    - optimizer: Optimization algorithm.\n",
    "    - scheduler: Learning rate scheduler.\n",
    "    - num_epochs: Number of epochs to train for.\n",
    "    - early_stopping_patience: Number of epochs to wait for improvement before early stopping.\n",
    "    - visualize: If True, plot training and validation losses.\n",
    "\n",
    "    Returns:\n",
    "    - model: The trained model.\n",
    "    - best_val_loss: The best validation loss achieved during training.\n",
    "    \"\"\"\n",
    "\n",
    "    device = torch.device(\"cuda:0\" if torch.cuda.is_available() else \"cpu\")\n",
    "    model.to(device)\n",
    "\n",
    "    best_model_wts = copy.deepcopy(model.state_dict())\n",
    "    best_val_loss = float('inf')\n",
    "    epochs_no_improve = 0  #early stopping counter\n",
    "\n",
    "    train_losses, val_losses = [], []\n",
    "\n",
    "    for epoch in range(num_epochs):\n",
    "        print(f'Epoch {epoch+1}/{num_epochs}')\n",
    "        print('-' * 10)\n",
    "\n",
    "        for phase in ['train', 'val']:\n",
    "            if phase == 'train':\n",
    "                model.train()\n",
    "            else:\n",
    "                model.eval()   \n",
    "\n",
    "            running_loss = 0.0\n",
    "\n",
    "            #iterate over data\n",
    "            for inputs, labels in dataloaders[phase]:\n",
    "                inputs = inputs.to(device)\n",
    "                labels = labels.to(device)\n",
    "\n",
    "                #zero the parameter gradients\n",
    "                optimizer.zero_grad()\n",
    "\n",
    "                #forward\n",
    "                with torch.set_grad_enabled(phase == 'train'):\n",
    "                    outputs = model(inputs)\n",
    "                    loss = criterion(outputs, labels)\n",
    "\n",
    "                    #\n",
    "                    if phase == 'train':\n",
    "                        #backward  \n",
    "                        loss.backward()\n",
    "                        #step\n",
    "                        optimizer.step()\n",
    "\n",
    "                running_loss += loss.item() * inputs.size(0)\n",
    "\n",
    "            if phase == 'train':\n",
    "                scheduler.step()\n",
    "\n",
    "            epoch_loss = running_loss / len(dataloaders[phase].dataset)\n",
    "            print(f'{phase} Loss: {epoch_loss:.4f}')\n",
    "\n",
    "            #deep copy the model if it's the best one\n",
    "            if phase == 'val':\n",
    "                val_losses.append(epoch_loss)\n",
    "                if epoch_loss < best_val_loss:\n",
    "                    best_val_loss = epoch_loss\n",
    "                    best_model_wts = copy.deepcopy(model.state_dict())\n",
    "                    epochs_no_improve = 0\n",
    "                else:\n",
    "                    epochs_no_improve += 1\n",
    "            else:\n",
    "                train_losses.append(epoch_loss)\n",
    "\n",
    "        #implement early stopping if val loss doesn't improve \n",
    "        if epochs_no_improve >= early_stopping_patience:\n",
    "            print(\"Early stopping initiated\")\n",
    "            break\n",
    "\n",
    "        print()\n",
    "\n",
    "    if visualize:\n",
    "        plt.plot(train_losses, label='Training loss')\n",
    "        plt.plot(val_losses, label='Validation loss')\n",
    "        plt.xlabel('Epochs')\n",
    "        plt.ylabel('Loss')\n",
    "        plt.legend()\n",
    "        plt.show()\n",
    "\n",
    "    #load best model weights\n",
    "    model.load_state_dict(best_model_wts)\n",
    "    return model, best_val_loss\n"
   ]
  },
  {
   "cell_type": "markdown",
   "metadata": {},
   "source": [
    "## HW-2.4: Hyper-parameter tuning\n",
    "\n",
    "* Keep detailed records of hyper-parameter choices and associated training & validation errors\n",
    "* Think critically and visualize the results of the search as needed\n",
    "\n",
    "* **Do each of these in a different sub-section of your notebook**\n",
    "  \n",
    "* **Explore hyper-parameter choice-0**\n",
    "  * for hidden activation=Relu, hidden layers = [32,32], optimizer=adam\n",
    "  * Vary the learning rate via a grid search pattern\n",
    "  * Plot training and validation error as a function of the learning rate\n",
    "  * Repeat this exercise for both random and Xavier weight initialization \n",
    "\n",
    "* **Explore hyper-parameter choice-1**\n",
    "  * for hidden activation=relu, hidden layers = [64,64], optimizer=adam\n",
    "  * Vary L1 and L2 in a 10x10 grid search (without dropout) \n",
    "  * Plot validation and training error as a function of L1 and L2 regularization in a 2D heatmap \n",
    "  * Plot the ratio (or difference) of validation to training error as a function of L1 and L2 regularization in a 2D heatmap \n",
    "\n",
    "* **Explore hyper-parameter choice-2**\n",
    "  * for hidden activation=sigmoid, hidden layers = [96,96,96], optimizer=**rmsprop**\n",
    "  * Vary drop-out parameter in a 1x10 grid search (without L1 or L2 regularization) \n",
    "  * Plot training and validation error as a function of dropout rate  \n",
    "  * Plot the ratio (or difference) of validation to training error as a function of dropout rate  \n",
    "\n",
    "* **Explore hyper-parameter choice-3:**\n",
    "  * for hidden activation=relu, hidden layers = [96,96,96], optimizer=**adam**\n",
    "  * Vary drop-out parameter in a 1x10 grid search (without L1 or L2 regularization) \n",
    "  * Plot training and validation as a function of dropout rate  \n",
    "  * Plot the ratio (or difference) of validation to training error as a function of dropout rate  \n",
    "\n",
    "* `Optional` Systematically search for the best regularization parameters choice (3D search) using random search algorithm \n",
    "  * (https://en.wikipedia.org/wiki/Random_search)[https://en.wikipedia.org/wiki/Random_search]\n",
    "  * Try to see how deep you can get the ANN (max hidden layers) without suffering from the vanishing gradient effect  \n",
    "  \n",
    "* `Final fit`\n",
    "  * At the very end, select a best fit model and report, training, validation, and test errors at the very end\n",
    "  * Make sure your \"plotting variable=True\" when for the final training\n",
    "  "
   ]
  },
  {
   "cell_type": "code",
   "execution_count": null,
   "metadata": {},
   "outputs": [],
   "source": [
    "import copy\n",
    "from collections import defaultdict\n",
    "import torch.optim as optim\n",
    "from torch.optim.lr_scheduler import ReduceLROnPlateau\n",
    "\n",
    "#initialize model\n",
    "def init_weights(m, init_type=\"random\"):\n",
    "    if isinstance(m, nn.Conv2d) or isinstance(m, nn.Linear):\n",
    "        if init_type == \"xavier\":\n",
    "            nn.init.xavier_uniform_(m.weight)\n",
    "        else:\n",
    "            nn.init.uniform_(m.weight, -0.1, 0.1)\n",
    "        if m.bias is not None:\n",
    "            nn.init.constant_(m.bias, 0)\n",
    "\n",
    "learning_rates = [1e-4, 1e-3, 1e-2, 1e-1]\n",
    "init_types = [\"random\", \"xavier\"]\n",
    "results = defaultdict(list)\n",
    "\n",
    "for init_type in init_types:\n",
    "    for lr in learning_rates:\n",
    "        model = FashionMNISTResNet(input_shape=1, channels=[32, 32, 64, 64], output_shape=10)\n",
    "        model.apply(lambda m: init_weights(m, init_type=init_type))\n",
    "\n",
    "        #loss function and optimizer\n",
    "        criterion = nn.CrossEntropyLoss()\n",
    "        optimizer = optim.Adam(model.parameters(), lr=lr)\n",
    "        scheduler = ReduceLROnPlateau(optimizer, 'min', patience=5)\n",
    "\n",
    "        #train model\n",
    "        trained_model, best_val_loss = train_model(model, {'train': train_dataloader, 'val': val_dataloader},\n",
    "                                                   criterion, optimizer, scheduler,\n",
    "                                                   num_epochs=10, early_stopping_patience=5, visualize=False)\n",
    "\n",
    "        #save results\n",
    "        results[init_type].append({'lr': lr, 'best_val_loss': best_val_loss})\n",
    "\n",
    "#visualize\n",
    "for init_type in init_types:\n",
    "    lrs = [result['lr'] for result in results[init_type]]\n",
    "    losses = [result['best_val_loss'] for result in results[init_type]]\n",
    "    plt.plot(lrs, losses, label=f\"{init_type} init\")\n",
    "plt.xscale('log')\n",
    "plt.xlabel('Learning Rate')\n",
    "plt.ylabel('Validation Loss')\n",
    "plt.legend()\n",
    "plt.title('Learning Rate vs. Validation Loss')\n",
    "plt.show()\n"
   ]
  },
  {
   "cell_type": "markdown",
   "metadata": {},
   "source": [
    "# Bonus assignment \n",
    "\n",
    "`+5 bonus points`\n",
    "\n",
    "`You DO NOT need to do this if you don't want to`\n",
    "\n",
    "* Once the data is collected, this HW should be quite easy, since most of the code can be recycled from the labs & textbook. \n",
    "\n",
    "* Do this in a file called `bonus.ipynb`, have it save its results to a folder \"data\"\n",
    "\n",
    "`Data collection`\n",
    "\n",
    "* Develope a text based classification data-set:\n",
    "* Use the Wikipedia API to search for articles to generate the data-set\n",
    "* Select a set of highly different topics (i.e. labels), for example,\n",
    "  * multi-class case: y=(pizza, oak_trees, basketball, ... , etc)=(0,1,2, ... , N-1)\n",
    "  * You don't have to use these, you can use whatever labels you want\n",
    "  * `Have AT LEAST 10 labels.` \n",
    "  * The more different the topics, the easier the classification task should be \n",
    "* Search for Wikipedia pages about these topics and harvest the text from the pages. \n",
    "* Do some basic text cleaning as needed. \n",
    "  * e.g. use the NLTK sentence tokenizer to break the text into sentences. \n",
    "  * Then form chunks of text that are five sentences long as your \"inputs\".\n",
    "* The \"label\" for these chunks will be the search label used to find the text. \n",
    "* The data set will not be perfect. \n",
    "  * There will be chunks of text that are not related to the topic (i.e. noise). \n",
    "  * However that is just something we have to live with.\n",
    "* **Important**: Always start small when writing & debugging THEN scale up. \n",
    "* The more chunks of text you have the better.\n",
    "  * Save the text and labels to the same format used by the textbook, that way you can recycle your lab code seamlessly. \n",
    "* `Optional practice`: You can also \"tag\" each chunk of text with an associated \"compound\" sentiment score computed using the NLTK sentiment analysis. From this you can train a regression model in part-2. This is somewhat silly, and is just for educational purposes, since your using a model output to train another model. \n",
    "\n",
    "`Model training`\n",
    "\n",
    "* Repeat the model training and hyper-parameter tuning exercise for MNIST, but with your text."
   ]
  }
 ],
 "metadata": {
  "kernelspec": {
   "display_name": "Python 3.10.4 ('ANLY501')",
   "language": "python",
   "name": "python3"
  },
  "language_info": {
   "codemirror_mode": {
    "name": "ipython",
    "version": 3
   },
   "file_extension": ".py",
   "mimetype": "text/x-python",
   "name": "python",
   "nbconvert_exporter": "python",
   "pygments_lexer": "ipython3",
   "version": "3.10.11"
  },
  "orig_nbformat": 4,
  "vscode": {
   "interpreter": {
    "hash": "3bbb781ca6673b7d7a2eaec0820775eebfaab6ec1fac7365fb415515f8c23aa5"
   }
  }
 },
 "nbformat": 4,
 "nbformat_minor": 2
}
