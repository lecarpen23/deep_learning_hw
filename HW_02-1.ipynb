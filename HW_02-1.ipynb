{
  "cells": [
    {
      "cell_type": "raw",
      "metadata": {
        "id": "YmGltrsSLdI8"
      },
      "source": [
        "---\n",
        "format:\n",
        "    html:\n",
        "        embed-resources: true\n",
        "---"
      ]
    },
    {
      "cell_type": "markdown",
      "metadata": {
        "id": "Jvji5bDbLdI9"
      },
      "source": [
        "# Homework-2:\n",
        "\n",
        "`ANN training in Keras or Pytorch & Hyper-parameter tuning`\n",
        "\n",
        "## Overview\n",
        "\n",
        "* Classification is one of the most common forms of supervised machine learning\n",
        "* In this homework we will explore \"model tuning\" for the case of a multi-class classification problem, as applied the MNIST data set\n",
        "* `You can do this assignment in either Keras OR PyTorch` (or both), it is your choice.\n",
        "\n",
        "## Submission\n",
        "\n",
        "* You need to upload TWO documents to Canvas when you are done\n",
        "  * (1) A PDF (or HTML) of the completed form of the `HW-2.ipynb` document\n",
        "* The final uploaded version should NOT have any code-errors present\n",
        "* All outputs must be visible in the uploaded version, including code-cell outputs, images, graphs, etc\n",
        "\n",
        "`IMPORTANT`: THERE ARE MANY WAYS TO DO THIS, SO FEEL FREE TO DEVIATE SLIGHTLY FROM THE EXACT DETAILS, BUT THE OVERALL RESULT AND FLOW SHOULD MATCH WHAT IS OUTLINED BELOW."
      ]
    },
    {
      "cell_type": "markdown",
      "metadata": {
        "id": "6eF6kTdCLdI-"
      },
      "source": [
        "## HW-2.1: Data preparation\n",
        "\n",
        "* Normalize the data as needed\n",
        "* Partition data into training, validation, and test (i.e. leave one out CV)\n",
        "  * One option to do this is to give these arrays global scope so they are seen inside the training function (so they don't need to be passed to functions)\n",
        "* **Optional but recommended:** Create a K-fold cross validation data set, rather than just doing leave one out\n",
        "* Do any other preprocessing you feel is needed"
      ]
    },
    {
      "cell_type": "markdown",
      "metadata": {
        "id": "nCdMkVuxLdI-"
      },
      "source": [
        "### Using Fashion MNIST\n",
        "\n",
        "99.999% sure Dr. Hickman said it was ok to use Fashion MNIST instead of regular MNIST, which I will be doing."
      ]
    },
    {
      "cell_type": "code",
      "execution_count": 50,
      "metadata": {
        "id": "9E9UOAtqLdI_"
      },
      "outputs": [],
      "source": [
        "import torch\n",
        "from torch import nn\n",
        "\n",
        "import torchvision\n",
        "from torchvision import transforms\n",
        "from torchvision import datasets\n",
        "from torchvision.transforms import ToTensor\n",
        "\n",
        "from tqdm.auto import tqdm\n",
        "\n",
        "import numpy as np"
      ]
    },
    {
      "cell_type": "markdown",
      "metadata": {
        "id": "jNXl1qr0LdI_"
      },
      "source": [
        "Normalizing the data below using ToTensor()"
      ]
    },
    {
      "cell_type": "code",
      "execution_count": 51,
      "metadata": {
        "id": "eMSjot2aLdI_"
      },
      "outputs": [],
      "source": [
        "train_data = datasets.FashionMNIST(\n",
        "    root=\"data\",\n",
        "    train=True,\n",
        "    download=True,\n",
        "    transform=torchvision.transforms.ToTensor(),\n",
        "    target_transform=None\n",
        ")\n",
        "\n",
        "test_data = datasets.FashionMNIST(\n",
        "    root=\"data\",\n",
        "    train=False,\n",
        "    download=True,\n",
        "    transform=ToTensor(),\n",
        "    target_transform=None\n",
        ")\n",
        "\n",
        "class_names = train_data.classes"
      ]
    },
    {
      "cell_type": "code",
      "execution_count": 52,
      "metadata": {
        "colab": {
          "base_uri": "https://localhost:8080/"
        },
        "id": "fo9gN7GJLdJA",
        "outputId": "1a1f008b-4f0f-43e1-ee35-47def4dfb818"
      },
      "outputs": [
        {
          "name": "stdout",
          "output_type": "stream",
          "text": [
            "['T-shirt/top', 'Trouser', 'Pullover', 'Dress', 'Coat', 'Sandal', 'Shirt', 'Sneaker', 'Bag', 'Ankle boot']\n"
          ]
        }
      ],
      "source": [
        "print(class_names)"
      ]
    },
    {
      "cell_type": "code",
      "execution_count": 53,
      "metadata": {
        "colab": {
          "base_uri": "https://localhost:8080/"
        },
        "id": "hI0FfNu2LdJA",
        "outputId": "273db3d9-384c-4ce0-8682-82507f64c8dc"
      },
      "outputs": [
        {
          "name": "stdout",
          "output_type": "stream",
          "text": [
            "Length Train: 60000\n",
            "Length Test: 10000\n"
          ]
        }
      ],
      "source": [
        "print(f'Length Train: {len(train_data)}')\n",
        "print(f'Length Test: {len(test_data)}')"
      ]
    },
    {
      "cell_type": "code",
      "execution_count": 54,
      "metadata": {
        "id": "sfNwCt-xLdJB"
      },
      "outputs": [],
      "source": [
        "from torch.utils.data import random_split\n",
        "\n",
        "train_size = .9 * len(train_data)\n",
        "val_size = len(train_data) - train_size\n",
        "\n",
        "#make val 10% of train\n",
        "train_data, val_data = random_split(train_data, lengths=[.9, .1])"
      ]
    },
    {
      "cell_type": "markdown",
      "metadata": {
        "id": "RMcsTSL1LdJB"
      },
      "source": [
        "Little heavy on the test data, so I went with just 10% of the traing data for validation"
      ]
    },
    {
      "cell_type": "code",
      "execution_count": 55,
      "metadata": {
        "colab": {
          "base_uri": "https://localhost:8080/"
        },
        "id": "giEYbfusLdJB",
        "outputId": "6e6b21d3-bc2a-4b52-cd4a-d27e65cadce4"
      },
      "outputs": [
        {
          "name": "stdout",
          "output_type": "stream",
          "text": [
            "Length Train: 54000\n",
            "Length Val: 6000\n"
          ]
        }
      ],
      "source": [
        "print(f'Length Train: {len(train_data)}')\n",
        "print(f'Length Val: {len(val_data)}')"
      ]
    },
    {
      "cell_type": "code",
      "execution_count": 56,
      "metadata": {
        "colab": {
          "base_uri": "https://localhost:8080/"
        },
        "id": "8bTUb4SBLdJB",
        "outputId": "d74b8322-c7ec-44ec-aef3-20ef54f5285a"
      },
      "outputs": [
        {
          "data": {
            "text/plain": [
              "(<torch.utils.data.dataloader.DataLoader at 0x1d210214950>,\n",
              " <torch.utils.data.dataloader.DataLoader at 0x1d2101353d0>,\n",
              " <torch.utils.data.dataloader.DataLoader at 0x1d210217dd0>)"
            ]
          },
          "execution_count": 56,
          "metadata": {},
          "output_type": "execute_result"
        }
      ],
      "source": [
        "from torch.utils.data import DataLoader\n",
        "BATCH_SIZE = 32\n",
        "\n",
        "train_dataloader = DataLoader(dataset=train_data,\n",
        "                              batch_size=BATCH_SIZE,\n",
        "                              shuffle=True)\n",
        "\n",
        "val_dataloader = DataLoader(dataset=val_data,\n",
        "                            batch_size=BATCH_SIZE,\n",
        "                            shuffle=True)\n",
        "\n",
        "test_dataloader = DataLoader(dataset=test_data,\n",
        "                              batch_size=BATCH_SIZE)\n",
        "\n",
        "train_dataloader, val_dataloader, test_dataloader"
      ]
    },
    {
      "cell_type": "code",
      "execution_count": 57,
      "metadata": {},
      "outputs": [
        {
          "name": "stdout",
          "output_type": "stream",
          "text": [
            "2.2.1+cu121\n"
          ]
        }
      ],
      "source": [
        "print(torch.__version__)"
      ]
    },
    {
      "cell_type": "code",
      "execution_count": 58,
      "metadata": {
        "colab": {
          "base_uri": "https://localhost:8080/",
          "height": 35
        },
        "id": "Fc4WclbTLdJB",
        "outputId": "dd8555c0-8302-499e-ce07-a122245c6c6b"
      },
      "outputs": [
        {
          "data": {
            "text/plain": [
              "device(type='cuda')"
            ]
          },
          "execution_count": 58,
          "metadata": {},
          "output_type": "execute_result"
        }
      ],
      "source": [
        "device = torch.device(\"cuda\" if torch.cuda.is_available() else \"cpu\")\n",
        "device"
      ]
    },
    {
      "cell_type": "markdown",
      "metadata": {
        "id": "pK47Y_fwLdJC"
      },
      "source": [
        "Doing some visualization and shape printing below to make sure is loaded as expected."
      ]
    },
    {
      "cell_type": "code",
      "execution_count": 59,
      "metadata": {
        "id": "b1uBVangLdJC"
      },
      "outputs": [],
      "source": [
        "import random\n",
        "random.seed(42)\n",
        "train_samples = []\n",
        "train_labels = []\n",
        "\n",
        "val_samples = []\n",
        "val_labels = []\n",
        "\n",
        "test_samples = []\n",
        "test_labels = []\n",
        "for sample, label in random.sample(list(train_data), k=3):\n",
        "  train_samples.append(sample)\n",
        "  train_labels.append(label)\n",
        "\n",
        "for sample, label in random.sample(list(val_data), k=3):\n",
        "  val_samples.append(sample)\n",
        "  val_labels.append(label)\n",
        "\n",
        "for sample, label in random.sample(list(test_data), k=3):\n",
        "  test_samples.append(sample)\n",
        "  test_labels.append(label)"
      ]
    },
    {
      "cell_type": "code",
      "execution_count": 60,
      "metadata": {
        "colab": {
          "base_uri": "https://localhost:8080/"
        },
        "id": "y4UduoeQLdJC",
        "outputId": "ec70cb79-deb2-4725-9045-1de21539d366"
      },
      "outputs": [
        {
          "name": "stdout",
          "output_type": "stream",
          "text": [
            "train length: 3\n",
            "val shape 0: torch.Size([1, 28, 28])\n",
            "test shape 2: torch.Size([1, 28, 28])\n"
          ]
        }
      ],
      "source": [
        "\n",
        "print(f'train length: {len(train_samples)}')\n",
        "print(f'val shape 0: {val_samples[0].shape}')\n",
        "print(f'test shape 2: {test_samples[2].shape}')"
      ]
    },
    {
      "cell_type": "markdown",
      "metadata": {
        "id": "1KRabJteLdJC"
      },
      "source": [
        "Going to do a little visualization just to make sure the data is how I expect"
      ]
    },
    {
      "cell_type": "code",
      "execution_count": 61,
      "metadata": {
        "colab": {
          "base_uri": "https://localhost:8080/",
          "height": 469
        },
        "id": "IkT8oypqLdJC",
        "outputId": "3d7e15ad-c718-4641-edb0-36323546bee6"
      },
      "outputs": [
        {
          "data": {
            "text/plain": [
              "Text(0.5, 1.0, 'Shirt')"
            ]
          },
          "execution_count": 61,
          "metadata": {},
          "output_type": "execute_result"
        },
        {
          "data": {
            "image/png": "[encoded data removed]",
            "text/plain": [
              "<Figure size 640x480 with 1 Axes>"
            ]
          },
          "metadata": {},
          "output_type": "display_data"
        }
      ],
      "source": [
        "import matplotlib.pyplot as plt\n",
        "import seaborn as sns\n",
        "\n",
        "plt.imshow(train_samples[0].squeeze(), cmap='gray')\n",
        "plt.title(class_names[train_labels[0]])"
      ]
    },
    {
      "cell_type": "code",
      "execution_count": 62,
      "metadata": {
        "colab": {
          "base_uri": "https://localhost:8080/",
          "height": 469
        },
        "id": "EGSg4A15LdJD",
        "outputId": "613a8eac-6aa2-4fb4-d0ea-52590fccc7d2"
      },
      "outputs": [
        {
          "data": {
            "text/plain": [
              "Text(0.5, 1.0, 'Bag')"
            ]
          },
          "execution_count": 62,
          "metadata": {},
          "output_type": "execute_result"
        },
        {
          "data": {
            "image/png": "[encoded data removed]",
            "text/plain": [
              "<Figure size 640x480 with 1 Axes>"
            ]
          },
          "metadata": {},
          "output_type": "display_data"
        }
      ],
      "source": [
        "plt.imshow(val_samples[0].squeeze(), cmap='gray')\n",
        "plt.title(class_names[val_labels[0]])"
      ]
    },
    {
      "cell_type": "code",
      "execution_count": 63,
      "metadata": {
        "colab": {
          "base_uri": "https://localhost:8080/",
          "height": 469
        },
        "id": "oRdOXm1gLdJD",
        "outputId": "004e46df-3ae0-4257-ad53-c0e69b38e0d8"
      },
      "outputs": [
        {
          "data": {
            "text/plain": [
              "Text(0.5, 1.0, 'T-shirt/top')"
            ]
          },
          "execution_count": 63,
          "metadata": {},
          "output_type": "execute_result"
        },
        {
          "data": {
            "image/png": "[encoded data removed]",
            "text/plain": [
              "<Figure size 640x480 with 1 Axes>"
            ]
          },
          "metadata": {},
          "output_type": "display_data"
        }
      ],
      "source": [
        "plt.imshow(test_samples[0].squeeze(), cmap='gray')\n",
        "plt.title(class_names[test_labels[0]])"
      ]
    },
    {
      "cell_type": "markdown",
      "metadata": {
        "id": "oKnzn2q7LdJD"
      },
      "source": [
        "## HW-2.2: Generalized model\n",
        "\n",
        "* Create a `General` model function (or class) that takes hyper-parameters and evaluates the model\n",
        "  * The function should work with a set of hyper parameters than can be easily be controlled and varied by the user (for later parameter tuning)\n",
        "  * This should work for the training, test, and validation set\n",
        "* Feel free to recycle code from the lab assignments and demo's  \n",
        "* Use the deep learning best practices that we discussed in class.\n",
        "* Document what is going on in the code, as needed, with narrative markdown text between cells."
      ]
    },
    {
      "cell_type": "markdown",
      "metadata": {
        "id": "99BRuZoKLdJD"
      },
      "source": [
        "Going to use a resnet like architecture for the model."
      ]
    },
    {
      "cell_type": "code",
      "execution_count": 83,
      "metadata": {
        "id": "brMoX9bZLdJD"
      },
      "outputs": [],
      "source": [
        "import torch.nn as nn\n",
        "\n",
        "class BasicResBlock(nn.Module):\n",
        "    def __init__(self, in_channels, out_channels, stride=1, dropout=0.15, padding=1, activation='relu'):\n",
        "        super().__init__()\n",
        "        self.conv1 = nn.Conv2d(in_channels, out_channels, kernel_size=3, stride=stride, padding=padding, bias=False)\n",
        "        self.bn1 = nn.BatchNorm2d(out_channels)\n",
        "        if activation == 'relu':\n",
        "          self.activation = nn.ReLU(inplace=True)\n",
        "        elif activation == 'sigmoid':\n",
        "          self.activation = nn.Sigmoid()\n",
        "        elif activation == 'tanh':\n",
        "          self.activation = nn.Tanh()\n",
        "        else:\n",
        "          print(f'Activation Given: {activation}')\n",
        "          print(type(activation))\n",
        "          raise ValueError(\"Activation Function Must Be relu or sigmoid\")\n",
        "        self.dropout = nn.Dropout(p=dropout)\n",
        "\n",
        "        self.conv2 = nn.Conv2d(out_channels, out_channels, kernel_size=3, stride=1, padding=padding, bias=False)\n",
        "        self.bn2 = nn.BatchNorm2d(out_channels)\n",
        "\n",
        "        self.shortcut = nn.Sequential()\n",
        "        if stride != 1 or in_channels != out_channels:\n",
        "            self.shortcut = nn.Sequential(\n",
        "                nn.Conv2d(in_channels, out_channels, kernel_size=1, stride=stride, bias=False),\n",
        "                nn.BatchNorm2d(out_channels)\n",
        "            )\n",
        "\n",
        "    def forward(self, x):\n",
        "        out = self.conv1(x)\n",
        "        out = self.bn1(out)\n",
        "        out = self.activation(out)\n",
        "        out = self.dropout(out)\n",
        "\n",
        "        out = self.conv2(out)\n",
        "        out = self.bn2(out)\n",
        "\n",
        "        shortcut = self.shortcut(x)\n",
        "\n",
        "        out += shortcut\n",
        "        out = self.activation(out)\n",
        "        return out\n",
        "\n",
        "\n",
        "class FashionMNISTResNet(nn.Module):\n",
        "    def __init__(self, input_shape, channels, output_shape, num_layers, activation='relu', dropout=.15):\n",
        "        super().__init__()\n",
        "        self.activation = nn.ReLU(inplace=True) if activation == 'relu' else nn.Sigmoid() if activation == 'sigmoid' else nn.Tanh()\n",
        "\n",
        "        #init the layers with conv2d and batchnorm2d\n",
        "        self.layers = nn.ModuleList([\n",
        "            nn.Conv2d(input_shape, channels[0], kernel_size=3, stride=1, padding=1),\n",
        "            nn.BatchNorm2d(channels[0]),\n",
        "            self.activation,\n",
        "            nn.Dropout(p=dropout)\n",
        "        ])\n",
        "\n",
        "        #add in resblocks\n",
        "        for i in range(num_layers):\n",
        "            self.layers.append(BasicResBlock(channels[i], channels[min(i+1, len(channels)-1)], activation=activation, dropout=dropout))\n",
        "            if i < len(channels) - 1:\n",
        "                self.layers.append(nn.Conv2d(channels[i], channels[i+1], kernel_size=3, stride=2, padding=1))\n",
        "                self.layers.append(nn.BatchNorm2d(channels[i+1]))\n",
        "                self.layers.append(self.activation)\n",
        "                self.layers.append(nn.Dropout(p=dropout))\n",
        "\n",
        "        #global average pooling\n",
        "        self.global_avg_pool = nn.AdaptiveAvgPool2d((1, 1))\n",
        "\n",
        "        #final linear layer\n",
        "        self.linear = nn.Linear(channels[-1], output_shape)\n",
        "\n",
        "    def forward(self, x):\n",
        "        for layer in self.layers:\n",
        "            x = layer(x)\n",
        "\n",
        "        x = self.global_avg_pool(x)  #apply global average pooling\n",
        "        x = x.view(x.size(0), -1)  #flatten\n",
        "        x = self.linear(x)\n",
        "        return x\n",
        "\n"
      ]
    },
    {
      "cell_type": "markdown",
      "metadata": {
        "id": "mIiAMBLKLdJD"
      },
      "source": [
        "## HW-2.3: Model training function\n",
        "\n",
        "* You can do this in either a function (or python class), or however you think is best.\n",
        "* **Create a training function** (or class) that takes hyper-parameter choices and trains the model\n",
        "  * If you are doing \"leave one out\", your training function only needs to do one training per hyper-parameter choice\n",
        "  * If you are doing K-fold cross validation, you should train the model K times for each hyper-parameter choice, and report the average result cross the training runs at the end (this is technically a better practice but requires more computation).\n",
        "  * Use a dense feed forward ANN model, with the correct output layer activation, and correct loss function\n",
        "  * `You MUST use early stopping` inside the function, otherwise it defeats the point\n",
        "  * **Have at least the following hyper-parameters as inputs to this function**\n",
        "    * L1 regularization constant, L2 regularization constant, dropout rate\n",
        "    * Learning rate\n",
        "    * Weight Initialization: Fully random vs Xavier Weight Initialization\n",
        "    * Hidden layer activation function choice (use relu, sigmoid, or tanh)\n",
        "    * Number and size of ANN hidden layers\n",
        "    * Optimizer choice, have at least three included (Adam, SGD, or RmsProp)\n",
        "    * You can wrap all of the hyper-parameter arguments into a dictionary, or do it however you want  \n",
        "  * **Visualization**\n",
        "    * Include a boolean parameter as a function input that controls whether visualization is created or not\n",
        "    * If `true`, Monitor training and validation throughout training by plotting\n",
        "    * Report a confusion matrix\n",
        "  * Return the final training and validation error (averaged if using K-fold)\n",
        "    * again, you must use early stopping to report the best training/validation loss without over-fitting\n",
        "* Depending how you do this, it can be a lot of computation, start small and scale up and consider using Co-lab\n",
        "  "
      ]
    },
    {
      "cell_type": "code",
      "execution_count": 84,
      "metadata": {
        "id": "xXWGArNkLdJD"
      },
      "outputs": [],
      "source": [
        "from sklearn.metrics import confusion_matrix\n",
        "\n",
        "def train_model(model, dataloaders, criterion, optimizer, num_epochs, early_stopping_patience=10, visualize=True, l1_strength=0.0, l2_strength=0.0, lr=0.001, init_type='random'):\n",
        "    device = torch.device(\"cuda:0\" if torch.cuda.is_available() else \"cpu\")\n",
        "    model.to(device)\n",
        "\n",
        "    optimizer = optimizer.lower()\n",
        "\n",
        "    if optimizer == 'adam':\n",
        "        optimizer = torch.optim.Adam(model.parameters(), lr=lr)\n",
        "    elif optimizer == 'sgd':\n",
        "        optimizer = torch.optim.SGD(model.parameters(), lr=lr)\n",
        "    elif optimizer == 'rmsprop':\n",
        "        optimizer = torch.optim.RMSprop(model.parameters(), lr=lr)\n",
        "    else:\n",
        "        raise ValueError(\"Unsupported optimizer\")\n",
        "\n",
        "    best_model_wts = copy.deepcopy(model.state_dict())\n",
        "    best_val_loss = float('inf')\n",
        "    epochs_no_improve = 0  # early stopping counter\n",
        "\n",
        "    train_losses, val_losses = [], []\n",
        "    best_confusion_matrix = None\n",
        "    best_train_loss = float('inf')\n",
        "\n",
        "    for epoch in range(num_epochs):\n",
        "        if epoch % 10 == 0:\n",
        "          print(f'Epoch {epoch+1}/{num_epochs}')\n",
        "          print('-' * 10)\n",
        "\n",
        "        for phase in ['train', 'val']:\n",
        "            if phase == 'train':\n",
        "                model.train()\n",
        "            else:\n",
        "                model.eval()\n",
        "\n",
        "            running_loss = 0.0\n",
        "            my_labels, my_preds = [], []\n",
        "\n",
        "            # Iterate over data.\n",
        "            for inputs, labels in dataloaders[phase]:\n",
        "                inputs = inputs.to(device)\n",
        "                labels = labels.to(device)\n",
        "\n",
        "                # Zero the parameter gradients\n",
        "                optimizer.zero_grad()\n",
        "\n",
        "                # Forward\n",
        "                with torch.set_grad_enabled(phase == 'train'):\n",
        "                    outputs = model(inputs)\n",
        "                    loss = criterion(outputs, labels)\n",
        "\n",
        "                    #add in l1 and l2 regularization\n",
        "                    if l1_strength > 0:\n",
        "                        l1_regularization = torch.tensor(0., requires_grad=True).to(device)\n",
        "                        for param in model.parameters():\n",
        "                            l1_regularization = l1_regularization + torch.norm(param, 1)\n",
        "                        loss += l1_strength * l1_regularization\n",
        "                    \n",
        "                    if l2_strength > 0:\n",
        "                        l2_regularization = torch.tensor(0., requires_grad=True).to(device)\n",
        "                        for param in model.parameters():\n",
        "                            l2_regularization = l2_regularization + torch.norm(param, 2)\n",
        "                        loss += l2_strength * l2_regularization\n",
        "\n",
        "                    # Backward + optimize only if in training phase\n",
        "                    if phase == 'train':\n",
        "                        loss.backward()\n",
        "                        optimizer.step()\n",
        "\n",
        "                # Statistics\n",
        "                running_loss += loss.item() * inputs.size(0)\n",
        "\n",
        "                _, preds = torch.max(outputs, 1)\n",
        "                my_labels.extend(labels.cpu().numpy())\n",
        "                my_preds.extend(preds.cpu().numpy())\n",
        "\n",
        "            epoch_loss = running_loss / len(dataloaders[phase].dataset)\n",
        "            if epoch % 10 == 0:\n",
        "              print(f'{phase} Loss: {epoch_loss:.4f}')\n",
        "\n",
        "            # Deep copy the model and implement early stopping\n",
        "            if phase == 'val':\n",
        "                val_losses.append(epoch_loss)\n",
        "\n",
        "                if epoch_loss < best_val_loss:\n",
        "                    best_val_loss = epoch_loss\n",
        "                    best_model_wts = copy.deepcopy(model.state_dict())\n",
        "                    epochs_no_improve = 0\n",
        "                    best_confusion_matrix = confusion_matrix(my_labels, my_preds)\n",
        "                else:\n",
        "                    epochs_no_improve += 1\n",
        "            else:\n",
        "                train_losses.append(epoch_loss)\n",
        "                if epoch_loss < best_train_loss:\n",
        "                  best_train_loss = epoch_loss\n",
        "\n",
        "        if epochs_no_improve >= early_stopping_patience:\n",
        "            print(\"Stopping Early\")\n",
        "            break\n",
        "\n",
        "    if visualize:\n",
        "        plt.plot(train_losses, label='Training loss')\n",
        "        plt.plot(val_losses, label='Validation loss')\n",
        "        plt.xlabel('Epochs')\n",
        "        plt.ylabel('Loss')\n",
        "        plt.title(f'Training with Learning Rate {lr} and Initialization {init_type}')\n",
        "        plt.legend()\n",
        "        plt.show()\n",
        "\n",
        "    # Load best model weights\n",
        "    model.load_state_dict(best_model_wts)\n",
        "\n",
        "    print(best_confusion_matrix)\n",
        "    return model, best_train_loss, best_val_loss\n"
      ]
    },
    {
      "cell_type": "markdown",
      "metadata": {
        "id": "hOEu6TzBLdJE"
      },
      "source": [
        "## HW-2.4: Hyper-parameter tuning\n",
        "\n",
        "* Keep detailed records of hyper-parameter choices and associated training & validation errors\n",
        "* Think critically and visualize the results of the search as needed\n",
        "\n",
        "* **Do each of these in a different sub-section of your notebook**\n",
        "  \n",
        "* **Explore hyper-parameter choice-0**\n",
        "  * for hidden activation=Relu, hidden layers = [32,32], optimizer=adam\n",
        "  * Vary the learning rate via a grid search pattern\n",
        "  * Plot training and validation error as a function of the learning rate\n",
        "  * Repeat this exercise for both random and Xavier weight initialization\n",
        "\n",
        "* **Explore hyper-parameter choice-1**\n",
        "  * for hidden activation=relu, hidden layers = [64,64], optimizer=adam\n",
        "  * Vary L1 and L2 in a 10x10 grid search (without dropout)\n",
        "  * Plot validation and training error as a function of L1 and L2 regularization in a 2D heatmap\n",
        "  * Plot the ratio (or difference) of validation to training error as a function of L1 and L2 regularization in a 2D heatmap\n",
        "\n",
        "* **Explore hyper-parameter choice-2**\n",
        "  * for hidden activation=sigmoid, hidden layers = [96,96,96], optimizer=**rmsprop**\n",
        "  * Vary drop-out parameter in a 1x10 grid search (without L1 or L2 regularization)\n",
        "  * Plot training and validation error as a function of dropout rate  \n",
        "  * Plot the ratio (or difference) of validation to training error as a function of dropout rate  \n",
        "\n",
        "* **Explore hyper-parameter choice-3:**\n",
        "  * for hidden activation=relu, hidden layers = [96,96,96], optimizer=**adam**\n",
        "  * Vary drop-out parameter in a 1x10 grid search (without L1 or L2 regularization)\n",
        "  * Plot training and validation as a function of dropout rate  \n",
        "  * Plot the ratio (or difference) of validation to training error as a function of dropout rate  \n",
        "\n",
        "* `Optional` Systematically search for the best regularization parameters choice (3D search) using random search algorithm\n",
        "  * (https://en.wikipedia.org/wiki/Random_search)[https://en.wikipedia.org/wiki/Random_search]\n",
        "  * Try to see how deep you can get the ANN (max hidden layers) without suffering from the vanishing gradient effect  \n",
        "  \n",
        "* `Final fit`\n",
        "  * At the very end, select a best fit model and report, training, validation, and test errors at the very end\n",
        "  * Make sure your \"plotting variable=True\" when for the final training\n",
        "  "
      ]
    },
    {
      "cell_type": "markdown",
      "metadata": {
        "id": "66M4LG3-Bnez"
      },
      "source": [
        "Hyperparameter Choice 0"
      ]
    },
    {
      "cell_type": "code",
      "execution_count": 85,
      "metadata": {
        "colab": {
          "base_uri": "https://localhost:8080/"
        },
        "id": "PZ-WbsEMLdJE",
        "outputId": "596b0fb7-7e61-4fca-d24f-f5a8fd13d6e6"
      },
      "outputs": [
        {
          "name": "stdout",
          "output_type": "stream",
          "text": [
            "Epoch 1/30\n",
            "----------\n",
            "train Loss: 0.7491\n",
            "val Loss: 0.4791\n",
            "Epoch 11/30\n",
            "----------\n",
            "train Loss: 0.2482\n",
            "val Loss: 0.2535\n",
            "Epoch 21/30\n",
            "----------\n",
            "train Loss: 0.2094\n",
            "val Loss: 0.2111\n",
            "Stopping Early\n"
          ]
        },
        {
          "data": {
            "image/png": "[encoded data removed]",
            "text/plain": [
              "<Figure size 640x480 with 1 Axes>"
            ]
          },
          "metadata": {},
          "output_type": "display_data"
        },
        {
          "name": "stdout",
          "output_type": "stream",
          "text": [
            "[[536   0  11   9   1   0  47   0   2   0]\n",
            " [  0 596   0   2   0   0   1   0   0   0]\n",
            " [  7   0 502   3  27   0  29   0   2   0]\n",
            " [ 17   1   4 506  19   0  19   0   2   0]\n",
            " [  4   0  14  11 531   0  22   0   0   0]\n",
            " [  1   0   0   0   0 598   0  11   0   2]\n",
            " [ 80   1  34   7  29   0 442   0   0   0]\n",
            " [  0   0   0   0   0   1   0 584   0  10]\n",
            " [  0   0   1   2   1   0   4   0 629   0]\n",
            " [  0   0   0   0   0   1   0  18   0 619]]\n",
            "Epoch 1/30\n",
            "----------\n",
            "train Loss: 0.7721\n",
            "val Loss: 0.4606\n",
            "Epoch 11/30\n",
            "----------\n",
            "train Loss: 0.2502\n",
            "val Loss: 0.2407\n",
            "Epoch 21/30\n",
            "----------\n",
            "train Loss: 0.2129\n",
            "val Loss: 0.2086\n",
            "Stopping Early\n"
          ]
        },
        {
          "data": {
            "image/png": "[encoded data removed]",
            "text/plain": [
              "<Figure size 640x480 with 1 Axes>"
            ]
          },
          "metadata": {},
          "output_type": "display_data"
        },
        {
          "name": "stdout",
          "output_type": "stream",
          "text": [
            "[[527   0  10  13   0   0  53   0   3   0]\n",
            " [  0 591   2   5   0   0   1   0   0   0]\n",
            " [  5   0 514   3  21   0  27   0   0   0]\n",
            " [  8   2   1 531  12   0  13   0   1   0]\n",
            " [  2   1  32  15 496   0  35   0   1   0]\n",
            " [  1   0   0   0   0 600   0  11   0   0]\n",
            " [ 71   1  32  12  15   0 461   0   1   0]\n",
            " [  0   0   0   0   0   5   0 588   0   2]\n",
            " [  1   0   1   1   1   1   2   0 630   0]\n",
            " [  0   0   0   0   0   3   0  30   0 605]]\n",
            "Epoch 1/30\n",
            "----------\n",
            "train Loss: 0.7247\n",
            "val Loss: 0.4294\n",
            "Epoch 11/30\n",
            "----------\n",
            "train Loss: 0.2529\n",
            "val Loss: 0.2526\n",
            "Epoch 21/30\n",
            "----------\n",
            "train Loss: 0.2160\n",
            "val Loss: 0.2180\n"
          ]
        }
      ],
      "source": [
        "import copy\n",
        "from collections import defaultdict\n",
        "from torch.optim.lr_scheduler import ReduceLROnPlateau\n",
        "import torch.optim as optim\n",
        "\n",
        "\n",
        "\n",
        "#initialize model\n",
        "def init_weights(m, init_type=\"random\"):\n",
        "    if isinstance(m, nn.Conv2d) or isinstance(m, nn.Linear):\n",
        "        if init_type == \"xavier\":\n",
        "            nn.init.xavier_uniform_(m.weight)\n",
        "        else:\n",
        "            nn.init.uniform_(m.weight, -0.1, 0.1)\n",
        "        if m.bias is not None:\n",
        "            nn.init.constant_(m.bias, 0)\n",
        "\n",
        "learning_rates = [.00001, .0001, .001]\n",
        "init_types = [\"random\", \"xavier\"]\n",
        "results = defaultdict(list)\n",
        "my_activation = \"relu\"\n",
        "\n",
        "criterion = nn.CrossEntropyLoss()\n",
        "\n",
        "for init_type in init_types:\n",
        "    for lr in learning_rates:\n",
        "        model = FashionMNISTResNet(input_shape=1, channels=[32, 32], output_shape=10, activation=my_activation, num_layers=2, dropout=.15)\n",
        "        model.apply(lambda m: init_weights(m, init_type=init_type))\n",
        "\n",
        "        #adam optimizer with various learning rates\n",
        "        optimizer = 'adam'\n",
        "\n",
        "        #train model\n",
        "        trained_model, best_train_loss, best_val_loss = train_model(model, {'train': train_dataloader, 'val': val_dataloader},\n",
        "                                                   criterion, optimizer,\n",
        "                                                   num_epochs=30, early_stopping_patience=5, visualize=True)\n",
        "\n",
        "        #save results\n",
        "        results[init_type].append({'lr': lr, 'best_val_loss': best_val_loss})\n",
        "\n",
        "#visualize\n",
        "for init_type in init_types:\n",
        "    lrs = [result['lr'] for result in results[init_type]]\n",
        "    losses = [result['best_val_loss'] for result in results[init_type]]\n",
        "    plt.plot(lrs, losses, label=f\"{init_type} init\")\n",
        "plt.xscale('log')\n",
        "plt.xlabel('Learning Rate')\n",
        "plt.ylabel('Validation Loss')\n",
        "plt.legend()\n",
        "plt.title('Learning Rate vs. Validation Loss')\n",
        "plt.show()\n"
      ]
    },
    {
      "cell_type": "code",
      "execution_count": 82,
      "metadata": {},
      "outputs": [
        {
          "ename": "TypeError",
          "evalue": "FashionMNISTResNet.__init__() missing 1 required positional argument: 'num_layers'",
          "output_type": "error",
          "traceback": [
            "\u001b[1;31m---------------------------------------------------------------------------\u001b[0m",
            "\u001b[1;31mTypeError\u001b[0m                                 Traceback (most recent call last)",
            "Cell \u001b[1;32mIn[82], line 34\u001b[0m\n\u001b[0;32m     32\u001b[0m \u001b[38;5;28;01mfor\u001b[39;00m l1_strength \u001b[38;5;129;01min\u001b[39;00m l1_values:\n\u001b[0;32m     33\u001b[0m     \u001b[38;5;28;01mfor\u001b[39;00m l2_strength \u001b[38;5;129;01min\u001b[39;00m l2_values:\n\u001b[1;32m---> 34\u001b[0m         model \u001b[38;5;241m=\u001b[39m \u001b[43mFashionMNISTResNet\u001b[49m\u001b[43m(\u001b[49m\u001b[43minput_shape\u001b[49m\u001b[38;5;241;43m=\u001b[39;49m\u001b[38;5;241;43m1\u001b[39;49m\u001b[43m,\u001b[49m\u001b[43m \u001b[49m\u001b[43mchannels\u001b[49m\u001b[38;5;241;43m=\u001b[39;49m\u001b[43m[\u001b[49m\u001b[38;5;241;43m64\u001b[39;49m\u001b[43m,\u001b[49m\u001b[43m \u001b[49m\u001b[38;5;241;43m64\u001b[39;49m\u001b[43m]\u001b[49m\u001b[43m,\u001b[49m\u001b[43m \u001b[49m\u001b[43moutput_shape\u001b[49m\u001b[38;5;241;43m=\u001b[39;49m\u001b[38;5;241;43m10\u001b[39;49m\u001b[43m,\u001b[49m\u001b[43m \u001b[49m\u001b[43mactivation\u001b[49m\u001b[38;5;241;43m=\u001b[39;49m\u001b[43mmy_activation\u001b[49m\u001b[43m)\u001b[49m  \n\u001b[0;32m     35\u001b[0m         model\u001b[38;5;241m.\u001b[39mapply(\u001b[38;5;28;01mlambda\u001b[39;00m m: init_weights(m, init_type\u001b[38;5;241m=\u001b[39m\u001b[38;5;124m'\u001b[39m\u001b[38;5;124mxavier\u001b[39m\u001b[38;5;124m'\u001b[39m))\n\u001b[0;32m     37\u001b[0m         optimizer \u001b[38;5;241m=\u001b[39m optim\u001b[38;5;241m.\u001b[39mAdam(model\u001b[38;5;241m.\u001b[39mparameters(), lr\u001b[38;5;241m=\u001b[39m\u001b[38;5;241m0.0001\u001b[39m, weight_decay\u001b[38;5;241m=\u001b[39ml2_strength)\n",
            "\u001b[1;31mTypeError\u001b[0m: FashionMNISTResNet.__init__() missing 1 required positional argument: 'num_layers'"
          ]
        }
      ],
      "source": [
        "import torch\n",
        "import torch.nn as nn\n",
        "import torch.optim as optim\n",
        "from torch.optim.lr_scheduler import ReduceLROnPlateau\n",
        "import matplotlib.pyplot as plt\n",
        "import numpy as np\n",
        "from collections import defaultdict\n",
        "\n",
        "\n",
        "def add_l1_regularization(loss, model, l1_strength):\n",
        "    #apply l1 regularization\n",
        "    l1_loss = sum(param.abs().sum() for param in model.parameters())\n",
        "    loss += l1_strength * l1_loss\n",
        "    return loss\n",
        "\n",
        "\n",
        "def init_weights(m, init_type=\"random\"):\n",
        "    if isinstance(m, nn.Conv2d) or isinstance(m, nn.Linear):\n",
        "        if init_type == \"xavier\":\n",
        "            nn.init.xavier_uniform_(m.weight)\n",
        "        else:\n",
        "            nn.init.uniform_(m.weight, -0.1, 0.1)\n",
        "        if m.bias is not None:\n",
        "            nn.init.constant_(m.bias, 0)\n",
        "\n",
        "#hyperparameters for grid search\n",
        "l1_values = np.logspace(-4, -1, 10)  # 10 values between 0.0001 and 0.1\n",
        "l2_values = np.logspace(-4, -1, 10)  # 10 values between 0.0001 and 0.1\n",
        "\n",
        "results = defaultdict(lambda: defaultdict(dict))\n",
        "\n",
        "for l1_strength in l1_values:\n",
        "    for l2_strength in l2_values:\n",
        "        model = FashionMNISTResNet(input_shape=1, channels=[64, 64], output_shape=10, activation=my_activation)  \n",
        "        model.apply(lambda m: init_weights(m, init_type='xavier'))\n",
        "\n",
        "        optimizer = optim.Adam(model.parameters(), lr=0.0001, weight_decay=l2_strength)\n",
        "        scheduler = ReduceLROnPlateau(optimizer, 'min', patience=5)\n",
        "\n",
        "        #train model with L1 regularization\n",
        "        trained_model, train_loss, val_loss = train_model(model, criterion, optimizer, num_epochs=30, l1_strength=l1_strength, early_stopping_patience=5, visualize=False)\n",
        "\n",
        "        #store results\n",
        "        results[l1_strength][l2_strength]['train_loss'] = train_loss\n",
        "        results[l1_strength][l2_strength]['val_loss'] = val_loss\n",
        "\n",
        "#convert results to numpy arrays for plotting\n",
        "train_losses = np.array([[results[l1][l2]['train_loss'] for l2 in l2_values] for l1 in l1_values])\n",
        "val_losses = np.array([[results[l1][l2]['val_loss'] for l2 in l2_values] for l1 in l1_values])\n",
        "\n",
        "#plotting\n",
        "fig, ax = plt.subplots(1, 3, figsize=(18, 6))\n",
        "c1 = ax[0].imshow(train_losses, cmap='viridis', aspect='auto')\n",
        "ax[0].set_title('Training Loss')\n",
        "fig.colorbar(c1, ax=ax[0])\n",
        "\n",
        "c2 = ax[1].imshow(val_losses, cmap='viridis', aspect='auto')\n",
        "ax[1].set_title('Validation Loss')\n",
        "fig.colorbar(c2, ax=ax[1])\n",
        "\n",
        "#plot ratio or difference\n",
        "ratio = val_losses / train_losses\n",
        "c3 = ax[2].imshow(ratio, cmap='viridis', aspect='auto')\n",
        "ax[2].set_title('Validation/Training Loss Ratio')\n",
        "fig.colorbar(c3, ax=ax[2])\n",
        "\n",
        "plt.show()\n"
      ]
    },
    {
      "cell_type": "markdown",
      "metadata": {
        "id": "eVbMnZ5aLdJE"
      },
      "source": [
        "# Bonus assignment\n",
        "\n",
        "`+5 bonus points`\n",
        "\n",
        "`You DO NOT need to do this if you don't want to`\n",
        "\n",
        "* Once the data is collected, this HW should be quite easy, since most of the code can be recycled from the labs & textbook.\n",
        "\n",
        "* Do this in a file called `bonus.ipynb`, have it save its results to a folder \"data\"\n",
        "\n",
        "`Data collection`\n",
        "\n",
        "* Develope a text based classification data-set:\n",
        "* Use the Wikipedia API to search for articles to generate the data-set\n",
        "* Select a set of highly different topics (i.e. labels), for example,\n",
        "  * multi-class case: y=(pizza, oak_trees, basketball, ... , etc)=(0,1,2, ... , N-1)\n",
        "  * You don't have to use these, you can use whatever labels you want\n",
        "  * `Have AT LEAST 10 labels.`\n",
        "  * The more different the topics, the easier the classification task should be\n",
        "* Search for Wikipedia pages about these topics and harvest the text from the pages.\n",
        "* Do some basic text cleaning as needed.\n",
        "  * e.g. use the NLTK sentence tokenizer to break the text into sentences.\n",
        "  * Then form chunks of text that are five sentences long as your \"inputs\".\n",
        "* The \"label\" for these chunks will be the search label used to find the text.\n",
        "* The data set will not be perfect.\n",
        "  * There will be chunks of text that are not related to the topic (i.e. noise).\n",
        "  * However that is just something we have to live with.\n",
        "* **Important**: Always start small when writing & debugging THEN scale up.\n",
        "* The more chunks of text you have the better.\n",
        "  * Save the text and labels to the same format used by the textbook, that way you can recycle your lab code seamlessly.\n",
        "* `Optional practice`: You can also \"tag\" each chunk of text with an associated \"compound\" sentiment score computed using the NLTK sentiment analysis. From this you can train a regression model in part-2. This is somewhat silly, and is just for educational purposes, since your using a model output to train another model.\n",
        "\n",
        "`Model training`\n",
        "\n",
        "* Repeat the model training and hyper-parameter tuning exercise for MNIST, but with your text."
      ]
    }
  ],
  "metadata": {
    "accelerator": "GPU",
    "colab": {
      "gpuType": "V100",
      "provenance": []
    },
    "kernelspec": {
      "display_name": "Python 3",
      "name": "python3"
    },
    "language_info": {
      "codemirror_mode": {
        "name": "ipython",
        "version": 3
      },
      "file_extension": ".py",
      "mimetype": "text/x-python",
      "name": "python",
      "nbconvert_exporter": "python",
      "pygments_lexer": "ipython3",
      "version": "3.11.8"
    },
    "orig_nbformat": 4,
    "vscode": {
      "interpreter": {
        "hash": "3bbb781ca6673b7d7a2eaec0820775eebfaab6ec1fac7365fb415515f8c23aa5"
      }
    }
  },
  "nbformat": 4,
  "nbformat_minor": 0
}
