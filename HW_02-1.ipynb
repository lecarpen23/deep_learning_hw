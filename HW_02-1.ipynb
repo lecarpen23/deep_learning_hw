{
  "cells": [
    {
      "cell_type": "raw",
      "metadata": {
        "id": "YmGltrsSLdI8"
      },
      "source": [
        "---\n",
        "format:\n",
        "    html:\n",
        "        embed-resources: true\n",
        "---"
      ]
    },
    {
      "cell_type": "markdown",
      "metadata": {
        "id": "Jvji5bDbLdI9"
      },
      "source": [
        "# Homework-2:\n",
        "\n",
        "`ANN training in Keras or Pytorch & Hyper-parameter tuning`\n",
        "\n",
        "## Overview\n",
        "\n",
        "* Classification is one of the most common forms of supervised machine learning\n",
        "* In this homework we will explore \"model tuning\" for the case of a multi-class classification problem, as applied the MNIST data set\n",
        "* `You can do this assignment in either Keras OR PyTorch` (or both), it is your choice.\n",
        "\n",
        "## Submission\n",
        "\n",
        "* You need to upload TWO documents to Canvas when you are done\n",
        "  * (1) A PDF (or HTML) of the completed form of the `HW-2.ipynb` document\n",
        "* The final uploaded version should NOT have any code-errors present\n",
        "* All outputs must be visible in the uploaded version, including code-cell outputs, images, graphs, etc\n",
        "\n",
        "`IMPORTANT`: THERE ARE MANY WAYS TO DO THIS, SO FEEL FREE TO DEVIATE SLIGHTLY FROM THE EXACT DETAILS, BUT THE OVERALL RESULT AND FLOW SHOULD MATCH WHAT IS OUTLINED BELOW."
      ]
    },
    {
      "cell_type": "markdown",
      "metadata": {
        "id": "6eF6kTdCLdI-"
      },
      "source": [
        "## HW-2.1: Data preparation\n",
        "\n",
        "* Normalize the data as needed\n",
        "* Partition data into training, validation, and test (i.e. leave one out CV)\n",
        "  * One option to do this is to give these arrays global scope so they are seen inside the training function (so they don't need to be passed to functions)\n",
        "* **Optional but recommended:** Create a K-fold cross validation data set, rather than just doing leave one out\n",
        "* Do any other preprocessing you feel is needed"
      ]
    },
    {
      "cell_type": "markdown",
      "metadata": {
        "id": "nCdMkVuxLdI-"
      },
      "source": [
        "### Using Fashion MNIST\n",
        "\n",
        "99.999% sure Dr. Hickman said it was ok to use Fashion MNIST instead of regular MNIST, which I will be doing."
      ]
    },
    {
      "cell_type": "code",
      "execution_count": 1,
      "metadata": {
        "id": "9E9UOAtqLdI_"
      },
      "outputs": [],
      "source": [
        "import torch\n",
        "from torch import nn\n",
        "\n",
        "import torchvision\n",
        "from torchvision import transforms\n",
        "from torchvision import datasets\n",
        "from torchvision.transforms import ToTensor\n",
        "\n",
        "from tqdm.auto import tqdm\n",
        "\n",
        "import numpy as np"
      ]
    },
    {
      "cell_type": "markdown",
      "metadata": {
        "id": "jNXl1qr0LdI_"
      },
      "source": [
        "Normalizing the data below using ToTensor()"
      ]
    },
    {
      "cell_type": "code",
      "execution_count": 2,
      "metadata": {
        "id": "eMSjot2aLdI_"
      },
      "outputs": [],
      "source": [
        "# train_data = datasets.FashionMNIST(\n",
        "#     root=\"data\",\n",
        "#     train=True,\n",
        "#     download=True,\n",
        "#     transform=torchvision.transforms.ToTensor(),\n",
        "#     target_transform=None\n",
        "# )\n",
        "\n",
        "# test_data = datasets.FashionMNIST(\n",
        "#     root=\"data\",\n",
        "#     train=False,\n",
        "#     download=True,\n",
        "#     transform=ToTensor(),\n",
        "#     target_transform=None\n",
        "# )\n",
        "\n",
        "# class_names = train_data.classes"
      ]
    },
    {
      "cell_type": "code",
      "execution_count": 3,
      "metadata": {
        "colab": {
          "base_uri": "https://localhost:8080/"
        },
        "id": "fo9gN7GJLdJA",
        "outputId": "1a1f008b-4f0f-43e1-ee35-47def4dfb818"
      },
      "outputs": [
        {
          "name": "stdout",
          "output_type": "stream",
          "text": [
            "['T-shirt/top', 'Trouser', 'Pullover', 'Dress', 'Coat', 'Sandal', 'Shirt', 'Sneaker', 'Bag', 'Ankle boot']\n"
          ]
        }
      ],
      "source": [
        "print(class_names)"
      ]
    },
    {
      "cell_type": "code",
      "execution_count": 4,
      "metadata": {
        "colab": {
          "base_uri": "https://localhost:8080/"
        },
        "id": "hI0FfNu2LdJA",
        "outputId": "273db3d9-384c-4ce0-8682-82507f64c8dc"
      },
      "outputs": [
        {
          "name": "stdout",
          "output_type": "stream",
          "text": [
            "Length Train: 60000\n",
            "Length Test: 10000\n"
          ]
        }
      ],
      "source": [
        "print(f'Length Train: {len(train_data)}')\n",
        "print(f'Length Test: {len(test_data)}')"
      ]
    },
    {
      "cell_type": "code",
      "execution_count": 5,
      "metadata": {
        "id": "sfNwCt-xLdJB"
      },
      "outputs": [],
      "source": [
        "from torch.utils.data import random_split\n",
        "\n",
        "train_size = .9 * len(train_data)\n",
        "val_size = len(train_data) - train_size\n",
        "\n",
        "#make val 10% of train\n",
        "train_data, val_data = random_split(train_data, lengths=[.9, .1])"
      ]
    },
    {
      "cell_type": "markdown",
      "metadata": {
        "id": "RMcsTSL1LdJB"
      },
      "source": [
        "Little heavy on the test data, so I went with just 10% of the traing data for validation"
      ]
    },
    {
      "cell_type": "code",
      "execution_count": 6,
      "metadata": {
        "colab": {
          "base_uri": "https://localhost:8080/"
        },
        "id": "giEYbfusLdJB",
        "outputId": "6e6b21d3-bc2a-4b52-cd4a-d27e65cadce4"
      },
      "outputs": [
        {
          "name": "stdout",
          "output_type": "stream",
          "text": [
            "Length Train: 54000\n",
            "Length Val: 6000\n"
          ]
        }
      ],
      "source": [
        "print(f'Length Train: {len(train_data)}')\n",
        "print(f'Length Val: {len(val_data)}')"
      ]
    },
    {
      "cell_type": "code",
      "execution_count": 7,
      "metadata": {
        "colab": {
          "base_uri": "https://localhost:8080/"
        },
        "id": "8bTUb4SBLdJB",
        "outputId": "d74b8322-c7ec-44ec-aef3-20ef54f5285a"
      },
      "outputs": [
        {
          "data": {
            "text/plain": [
              "(<torch.utils.data.dataloader.DataLoader at 0x20d8bfb63d0>,\n",
              " <torch.utils.data.dataloader.DataLoader at 0x20d8bfb7710>,\n",
              " <torch.utils.data.dataloader.DataLoader at 0x20d8c1a0bd0>)"
            ]
          },
          "execution_count": 7,
          "metadata": {},
          "output_type": "execute_result"
        }
      ],
      "source": [
        "from torch.utils.data import DataLoader\n",
        "BATCH_SIZE = 32\n",
        "\n",
        "train_dataloader = DataLoader(dataset=train_data,\n",
        "                              batch_size=BATCH_SIZE,\n",
        "                              shuffle=True)\n",
        "\n",
        "val_dataloader = DataLoader(dataset=val_data,\n",
        "                            batch_size=BATCH_SIZE,\n",
        "                            shuffle=True)\n",
        "\n",
        "test_dataloader = DataLoader(dataset=test_data,\n",
        "                              batch_size=BATCH_SIZE)\n",
        "\n",
        "train_dataloader, val_dataloader, test_dataloader"
      ]
    },
    {
      "cell_type": "code",
      "execution_count": 8,
      "metadata": {
        "colab": {
          "base_uri": "https://localhost:8080/",
          "height": 35
        },
        "id": "Fc4WclbTLdJB",
        "outputId": "dd8555c0-8302-499e-ce07-a122245c6c6b"
      },
      "outputs": [
        {
          "data": {
            "text/plain": [
              "'cpu'"
            ]
          },
          "execution_count": 8,
          "metadata": {},
          "output_type": "execute_result"
        }
      ],
      "source": [
        "device = \"cuda\" if torch.cuda.is_available() else \"cpu\"\n",
        "device"
      ]
    },
    {
      "cell_type": "markdown",
      "metadata": {
        "id": "pK47Y_fwLdJC"
      },
      "source": [
        "Doing some visualization and shape printing below to make sure is loaded as expected."
      ]
    },
    {
      "cell_type": "code",
      "execution_count": 9,
      "metadata": {
        "id": "b1uBVangLdJC"
      },
      "outputs": [],
      "source": [
        "import random\n",
        "random.seed(42)\n",
        "train_samples = []\n",
        "train_labels = []\n",
        "\n",
        "val_samples = []\n",
        "val_labels = []\n",
        "\n",
        "test_samples = []\n",
        "test_labels = []\n",
        "for sample, label in random.sample(list(train_data), k=3):\n",
        "  train_samples.append(sample)\n",
        "  train_labels.append(label)\n",
        "\n",
        "for sample, label in random.sample(list(val_data), k=3):\n",
        "  val_samples.append(sample)\n",
        "  val_labels.append(label)\n",
        "\n",
        "for sample, label in random.sample(list(test_data), k=3):\n",
        "  test_samples.append(sample)\n",
        "  test_labels.append(label)"
      ]
    },
    {
      "cell_type": "code",
      "execution_count": 10,
      "metadata": {
        "colab": {
          "base_uri": "https://localhost:8080/"
        },
        "id": "y4UduoeQLdJC",
        "outputId": "ec70cb79-deb2-4725-9045-1de21539d366"
      },
      "outputs": [
        {
          "name": "stdout",
          "output_type": "stream",
          "text": [
            "train length: 3\n",
            "val shape 0: torch.Size([1, 28, 28])\n",
            "test shape 2: torch.Size([1, 28, 28])\n"
          ]
        }
      ],
      "source": [
        "\n",
        "print(f'train length: {len(train_samples)}')\n",
        "print(f'val shape 0: {val_samples[0].shape}')\n",
        "print(f'test shape 2: {test_samples[2].shape}')"
      ]
    },
    {
      "cell_type": "markdown",
      "metadata": {
        "id": "1KRabJteLdJC"
      },
      "source": [
        "Going to do a little visualization just to make sure the data is how I expect"
      ]
    },
    {
      "cell_type": "code",
      "execution_count": 11,
      "metadata": {
        "colab": {
          "base_uri": "https://localhost:8080/",
          "height": 469
        },
        "id": "IkT8oypqLdJC",
        "outputId": "3d7e15ad-c718-4641-edb0-36323546bee6"
      },
      "outputs": [
        {
          "data": {
            "text/plain": [
              "Text(0.5, 1.0, 'Ankle boot')"
            ]
          },
          "execution_count": 11,
          "metadata": {},
          "output_type": "execute_result"
        },
        {
          "data": {
            "image/png": "[encoded data removed]",
            "text/plain": [
              "<Figure size 640x480 with 1 Axes>"
            ]
          },
          "metadata": {},
          "output_type": "display_data"
        }
      ],
      "source": [
        "import matplotlib.pyplot as plt\n",
        "import seaborn as sns\n",
        "\n",
        "plt.imshow(train_samples[0].squeeze(), cmap='gray')\n",
        "plt.title(class_names[train_labels[0]])"
      ]
    },
    {
      "cell_type": "code",
      "execution_count": 12,
      "metadata": {
        "colab": {
          "base_uri": "https://localhost:8080/",
          "height": 469
        },
        "id": "EGSg4A15LdJD",
        "outputId": "613a8eac-6aa2-4fb4-d0ea-52590fccc7d2"
      },
      "outputs": [
        {
          "data": {
            "text/plain": [
              "Text(0.5, 1.0, 'Bag')"
            ]
          },
          "execution_count": 12,
          "metadata": {},
          "output_type": "execute_result"
        },
        {
          "data": {
            "image/png": "[encoded data removed]",
            "text/plain": [
              "<Figure size 640x480 with 1 Axes>"
            ]
          },
          "metadata": {},
          "output_type": "display_data"
        }
      ],
      "source": [
        "plt.imshow(val_samples[0].squeeze(), cmap='gray')\n",
        "plt.title(class_names[val_labels[0]])"
      ]
    },
    {
      "cell_type": "code",
      "execution_count": 13,
      "metadata": {
        "colab": {
          "base_uri": "https://localhost:8080/",
          "height": 469
        },
        "id": "oRdOXm1gLdJD",
        "outputId": "004e46df-3ae0-4257-ad53-c0e69b38e0d8"
      },
      "outputs": [
        {
          "data": {
            "text/plain": [
              "Text(0.5, 1.0, 'T-shirt/top')"
            ]
          },
          "execution_count": 13,
          "metadata": {},
          "output_type": "execute_result"
        },
        {
          "data": {
            "image/png": "[encoded data removed]",
            "text/plain": [
              "<Figure size 640x480 with 1 Axes>"
            ]
          },
          "metadata": {},
          "output_type": "display_data"
        }
      ],
      "source": [
        "plt.imshow(test_samples[0].squeeze(), cmap='gray')\n",
        "plt.title(class_names[test_labels[0]])"
      ]
    },
    {
      "cell_type": "markdown",
      "metadata": {
        "id": "oKnzn2q7LdJD"
      },
      "source": [
        "## HW-2.2: Generalized model\n",
        "\n",
        "* Create a `General` model function (or class) that takes hyper-parameters and evaluates the model\n",
        "  * The function should work with a set of hyper parameters than can be easily be controlled and varied by the user (for later parameter tuning)\n",
        "  * This should work for the training, test, and validation set\n",
        "* Feel free to recycle code from the lab assignments and demo's  \n",
        "* Use the deep learning best practices that we discussed in class.\n",
        "* Document what is going on in the code, as needed, with narrative markdown text between cells."
      ]
    },
    {
      "cell_type": "markdown",
      "metadata": {
        "id": "99BRuZoKLdJD"
      },
      "source": [
        "Going to use a resnet like architecture for the model."
      ]
    },
    {
      "cell_type": "code",
      "execution_count": 14,
      "metadata": {
        "id": "brMoX9bZLdJD"
      },
      "outputs": [],
      "source": [
        "import torch.nn as nn\n",
        "\n",
        "class BasicResBlock(nn.Module):\n",
        "    def __init__(self, in_channels, out_channels, stride=1, dropout=0.25, padding=1, activation='relu'):\n",
        "        super().__init__()\n",
        "        self.conv1 = nn.Conv2d(in_channels, out_channels, kernel_size=3, stride=stride, padding=padding, bias=False)\n",
        "        self.bn1 = nn.BatchNorm2d(out_channels)\n",
        "        if activation == 'relu':\n",
        "          self.activation = nn.ReLU(inplace=True)\n",
        "        elif activation == 'sigmoid':\n",
        "          self.activation = nn.Sigmoid()\n",
        "        else:\n",
        "          print(f'Activation Given: {activation}')\n",
        "          print(type(activation))\n",
        "          raise ValueError(\"Activation Function Must Be relu or sigmoid\")\n",
        "        self.dropout = nn.Dropout(p=dropout)\n",
        "\n",
        "        self.conv2 = nn.Conv2d(out_channels, out_channels, kernel_size=3, stride=1, padding=padding, bias=False)\n",
        "        self.bn2 = nn.BatchNorm2d(out_channels)\n",
        "\n",
        "        self.shortcut = nn.Sequential()\n",
        "        if stride != 1 or in_channels != out_channels:\n",
        "            self.shortcut = nn.Sequential(\n",
        "                nn.Conv2d(in_channels, out_channels, kernel_size=1, stride=stride, bias=False),\n",
        "                nn.BatchNorm2d(out_channels)\n",
        "            )\n",
        "\n",
        "    def forward(self, x):\n",
        "        out = self.conv1(x)\n",
        "        out = self.bn1(out)\n",
        "        out = self.activation(out)\n",
        "        out = self.dropout(out)\n",
        "\n",
        "        out = self.conv2(out)\n",
        "        out = self.bn2(out)\n",
        "\n",
        "        shortcut = self.shortcut(x)\n",
        "\n",
        "        out += shortcut\n",
        "        out = self.activation(out)\n",
        "        return out\n",
        "\n",
        "\n",
        "class FashionMNISTResNet(nn.Module):\n",
        "    \"\"\"\n",
        "    A simple ResNet-like model for Fashion MNIST\n",
        "    \"\"\"\n",
        "    def __init__(self, input_shape, channels, output_shape, activation='relu', dropout=.25):\n",
        "        super().__init__()\n",
        "        if activation == 'relu':\n",
        "            self.activation = nn.ReLU(inplace=True)\n",
        "        elif activation == 'sigmoid':\n",
        "            self.activation = nn.Sigmoid()\n",
        "        else:\n",
        "            raise ValueError(\"Unsupported activation function\")\n",
        "        self.conv1 = nn.Conv2d(input_shape, channels[0], kernel_size=3, stride=1, padding=1)\n",
        "        self.bn1 = nn.BatchNorm2d(channels[0])\n",
        "        self.blocks = nn.Sequential(*[BasicResBlock(channels[i], channels[i+1], stride=2 if i else 1, dropout=dropout, activation=activation)\n",
        "                                      for i in range(len(channels)-1)])\n",
        "        self.linear = nn.Linear(channels[-1], output_shape)\n",
        "\n",
        "    def forward(self, x):\n",
        "        out = nn.ReLU()(self.bn1(self.conv1(x)))\n",
        "        out = self.blocks(out)\n",
        "        out = nn.AdaptiveAvgPool2d((1, 1))(out) #global average pooling\n",
        "        out = out.view(out.size(0), -1)\n",
        "        out = self.linear(out)\n",
        "        return out\n"
      ]
    },
    {
      "cell_type": "markdown",
      "metadata": {
        "id": "mIiAMBLKLdJD"
      },
      "source": [
        "## HW-2.3: Model training function\n",
        "\n",
        "* You can do this in either a function (or python class), or however you think is best.\n",
        "* **Create a training function** (or class) that takes hyper-parameter choices and trains the model\n",
        "  * If you are doing \"leave one out\", your training function only needs to do one training per hyper-parameter choice\n",
        "  * If you are doing K-fold cross validation, you should train the model K times for each hyper-parameter choice, and report the average result cross the training runs at the end (this is technically a better practice but requires more computation).\n",
        "  * Use a dense feed forward ANN model, with the correct output layer activation, and correct loss function\n",
        "  * `You MUST use early stopping` inside the function, otherwise it defeats the point\n",
        "  * **Have at least the following hyper-parameters as inputs to this function**\n",
        "    * L1 regularization constant, L2 regularization constant, dropout rate\n",
        "    * Learning rate\n",
        "    * Weight Initialization: Fully random vs Xavier Weight Initialization\n",
        "    * Hidden layer activation function choice (use relu, sigmoid, or tanh)\n",
        "    * Number and size of ANN hidden layers\n",
        "    * Optimizer choice, have at least three included (Adam, SGD, or RmsProp)\n",
        "    * You can wrap all of the hyper-parameter arguments into a dictionary, or do it however you want  \n",
        "  * **Visualization**\n",
        "    * Include a boolean parameter as a function input that controls whether visualization is created or not\n",
        "    * If `true`, Monitor training and validation throughout training by plotting\n",
        "    * Report a confusion matrix\n",
        "  * Return the final training and validation error (averaged if using K-fold)\n",
        "    * again, you must use early stopping to report the best training/validation loss without over-fitting\n",
        "* Depending how you do this, it can be a lot of computation, start small and scale up and consider using Co-lab\n",
        "  "
      ]
    },
    {
      "cell_type": "code",
      "execution_count": 15,
      "metadata": {
        "id": "xXWGArNkLdJD"
      },
      "outputs": [],
      "source": [
        "from sklearn.metrics import confusion_matrix\n",
        "\n",
        "def train_model(model, dataloaders, criterion, optimizer, scheduler, num_epochs=25, early_stopping_patience=10, visualize=True):\n",
        "    device = torch.device(\"cuda:0\" if torch.cuda.is_available() else \"cpu\")\n",
        "    model.to(device)\n",
        "\n",
        "    best_model_wts = copy.deepcopy(model.state_dict())\n",
        "    best_val_loss = float('inf')\n",
        "    epochs_no_improve = 0  # early stopping counter\n",
        "\n",
        "    train_losses, val_losses = [], []\n",
        "    best_confusion_matrix = None\n",
        "    best_train_loss = float('inf')\n",
        "\n",
        "    for epoch in range(num_epochs):\n",
        "        if epoch % 10 == 0:\n",
        "          print(f'Epoch {epoch+1}/{num_epochs}')\n",
        "          print('-' * 10)\n",
        "\n",
        "        for phase in ['train', 'val']:\n",
        "            if phase == 'train':\n",
        "                model.train()\n",
        "            else:\n",
        "                model.eval()\n",
        "\n",
        "            running_loss = 0.0\n",
        "            my_labels, my_preds = [], []\n",
        "\n",
        "            # Iterate over data.\n",
        "            for inputs, labels in dataloaders[phase]:\n",
        "                inputs = inputs.to(device)\n",
        "                labels = labels.to(device)\n",
        "\n",
        "                # Zero the parameter gradients\n",
        "                optimizer.zero_grad()\n",
        "\n",
        "                # Forward\n",
        "                with torch.set_grad_enabled(phase == 'train'):\n",
        "                    outputs = model(inputs)\n",
        "                    loss = criterion(outputs, labels)\n",
        "\n",
        "                    # Backward + optimize only if in training phase\n",
        "                    if phase == 'train':\n",
        "                        loss.backward()\n",
        "                        optimizer.step()\n",
        "\n",
        "                # Statistics\n",
        "                running_loss += loss.item() * inputs.size(0)\n",
        "\n",
        "                _, preds = torch.max(outputs, 1)\n",
        "                my_labels.extend(labels.cpu().numpy())\n",
        "                my_preds.extend(preds.cpu().numpy())\n",
        "\n",
        "            epoch_loss = running_loss / len(dataloaders[phase].dataset)\n",
        "            if epoch % 10 == 0:\n",
        "              print(f'{phase} Loss: {epoch_loss:.4f}')\n",
        "\n",
        "            # Deep copy the model and implement early stopping\n",
        "            if phase == 'val':\n",
        "                val_losses.append(epoch_loss)\n",
        "                scheduler.step(epoch_loss)  # Step the scheduler based on the validation loss\n",
        "\n",
        "                if epoch_loss < best_val_loss:\n",
        "                    best_val_loss = epoch_loss\n",
        "                    best_model_wts = copy.deepcopy(model.state_dict())\n",
        "                    epochs_no_improve = 0\n",
        "                    best_confusion_matrix = confusion_matrix(my_labels, my_preds)\n",
        "                else:\n",
        "                    epochs_no_improve += 1\n",
        "            else:\n",
        "                train_losses.append(epoch_loss)\n",
        "                if epoch_loss < best_train_loss:\n",
        "                  best_train_loss = epoch_loss\n",
        "\n",
        "        if epochs_no_improve >= early_stopping_patience:\n",
        "            print(\"Stopping Early\")\n",
        "            break\n",
        "\n",
        "        print()\n",
        "\n",
        "    if visualize:\n",
        "        plt.plot(train_losses, label='Training loss')\n",
        "        plt.plot(val_losses, label='Validation loss')\n",
        "        plt.xlabel('Epochs')\n",
        "        plt.ylabel('Loss')\n",
        "        plt.title(f'Training with Learning Rate {lr} and Initialization {init_type}')\n",
        "        plt.legend()\n",
        "        plt.show()\n",
        "\n",
        "    # Load best model weights\n",
        "    model.load_state_dict(best_model_wts)\n",
        "\n",
        "    print(best_confusion_matrix)\n",
        "    return model, best_train_loss, best_val_loss\n"
      ]
    },
    {
      "cell_type": "markdown",
      "metadata": {
        "id": "hOEu6TzBLdJE"
      },
      "source": [
        "## HW-2.4: Hyper-parameter tuning\n",
        "\n",
        "* Keep detailed records of hyper-parameter choices and associated training & validation errors\n",
        "* Think critically and visualize the results of the search as needed\n",
        "\n",
        "* **Do each of these in a different sub-section of your notebook**\n",
        "  \n",
        "* **Explore hyper-parameter choice-0**\n",
        "  * for hidden activation=Relu, hidden layers = [32,32], optimizer=adam\n",
        "  * Vary the learning rate via a grid search pattern\n",
        "  * Plot training and validation error as a function of the learning rate\n",
        "  * Repeat this exercise for both random and Xavier weight initialization\n",
        "\n",
        "* **Explore hyper-parameter choice-1**\n",
        "  * for hidden activation=relu, hidden layers = [64,64], optimizer=adam\n",
        "  * Vary L1 and L2 in a 10x10 grid search (without dropout)\n",
        "  * Plot validation and training error as a function of L1 and L2 regularization in a 2D heatmap\n",
        "  * Plot the ratio (or difference) of validation to training error as a function of L1 and L2 regularization in a 2D heatmap\n",
        "\n",
        "* **Explore hyper-parameter choice-2**\n",
        "  * for hidden activation=sigmoid, hidden layers = [96,96,96], optimizer=**rmsprop**\n",
        "  * Vary drop-out parameter in a 1x10 grid search (without L1 or L2 regularization)\n",
        "  * Plot training and validation error as a function of dropout rate  \n",
        "  * Plot the ratio (or difference) of validation to training error as a function of dropout rate  \n",
        "\n",
        "* **Explore hyper-parameter choice-3:**\n",
        "  * for hidden activation=relu, hidden layers = [96,96,96], optimizer=**adam**\n",
        "  * Vary drop-out parameter in a 1x10 grid search (without L1 or L2 regularization)\n",
        "  * Plot training and validation as a function of dropout rate  \n",
        "  * Plot the ratio (or difference) of validation to training error as a function of dropout rate  \n",
        "\n",
        "* `Optional` Systematically search for the best regularization parameters choice (3D search) using random search algorithm\n",
        "  * (https://en.wikipedia.org/wiki/Random_search)[https://en.wikipedia.org/wiki/Random_search]\n",
        "  * Try to see how deep you can get the ANN (max hidden layers) without suffering from the vanishing gradient effect  \n",
        "  \n",
        "* `Final fit`\n",
        "  * At the very end, select a best fit model and report, training, validation, and test errors at the very end\n",
        "  * Make sure your \"plotting variable=True\" when for the final training\n",
        "  "
      ]
    },
    {
      "cell_type": "markdown",
      "metadata": {
        "id": "66M4LG3-Bnez"
      },
      "source": [
        "Hyperparameter Choice 0"
      ]
    },
    {
      "cell_type": "code",
      "execution_count": 16,
      "metadata": {
        "colab": {
          "base_uri": "https://localhost:8080/"
        },
        "id": "PZ-WbsEMLdJE",
        "outputId": "596b0fb7-7e61-4fca-d24f-f5a8fd13d6e6"
      },
      "outputs": [
        {
          "name": "stdout",
          "output_type": "stream",
          "text": [
            "Epoch 1/50\n",
            "----------\n",
            "train Loss: 2.3088\n",
            "val Loss: 2.2923\n",
            "\n",
            "\n",
            "\n",
            "\n",
            "\n",
            "\n",
            "\n",
            "\n",
            "\n",
            "\n",
            "Epoch 11/50\n",
            "----------\n",
            "train Loss: 2.1629\n",
            "val Loss: 2.1491\n",
            "\n",
            "\n",
            "\n",
            "\n",
            "\n",
            "\n",
            "\n",
            "\n"
          ]
        }
      ],
      "source": [
        "import copy\n",
        "from collections import defaultdict\n",
        "from torch.optim.lr_scheduler import ReduceLROnPlateau\n",
        "import torch.optim as optim\n",
        "\n",
        "\n",
        "\n",
        "#initialize model\n",
        "def init_weights(m, init_type=\"random\"):\n",
        "    if isinstance(m, nn.Conv2d) or isinstance(m, nn.Linear):\n",
        "        if init_type == \"xavier\":\n",
        "            nn.init.xavier_uniform_(m.weight)\n",
        "        else:\n",
        "            nn.init.uniform_(m.weight, -0.1, 0.1)\n",
        "        if m.bias is not None:\n",
        "            nn.init.constant_(m.bias, 0)\n",
        "\n",
        "learning_rates = [.000001, .00001, .0001, .001, .01]\n",
        "init_types = [\"random\", \"xavier\"]\n",
        "results = defaultdict(list)\n",
        "my_activation = \"relu\"\n",
        "\n",
        "criterion = nn.CrossEntropyLoss()\n",
        "\n",
        "for init_type in init_types:\n",
        "    for lr in learning_rates:\n",
        "        model = FashionMNISTResNet(input_shape=1, channels=[32, 32], output_shape=10, activation=my_activation)\n",
        "        model.apply(lambda m: init_weights(m, init_type=init_type))\n",
        "\n",
        "        #adam optimizer with various learning rates\n",
        "        optimizer = optim.Adam(model.parameters(), lr=lr)\n",
        "        scheduler = ReduceLROnPlateau(optimizer, 'min', patience=5)\n",
        "\n",
        "        #train model\n",
        "        trained_model, best_train_loss, best_val_loss = train_model(model, {'train': train_dataloader, 'val': val_dataloader},\n",
        "                                                   criterion, optimizer, scheduler,\n",
        "                                                   num_epochs=50, early_stopping_patience=5, visualize=True)\n",
        "\n",
        "        #save results\n",
        "        results[init_type].append({'lr': lr, 'best_val_loss': best_val_loss})\n",
        "\n",
        "#visualize\n",
        "for init_type in init_types:\n",
        "    lrs = [result['lr'] for result in results[init_type]]\n",
        "    losses = [result['best_val_loss'] for result in results[init_type]]\n",
        "    plt.plot(lrs, losses, label=f\"{init_type} init\")\n",
        "plt.xscale('log')\n",
        "plt.xlabel('Learning Rate')\n",
        "plt.ylabel('Validation Loss')\n",
        "plt.legend()\n",
        "plt.title('Learning Rate vs. Validation Loss')\n",
        "plt.show()\n"
      ]
    },
    {
      "cell_type": "markdown",
      "metadata": {
        "id": "eVbMnZ5aLdJE"
      },
      "source": [
        "# Bonus assignment\n",
        "\n",
        "`+5 bonus points`\n",
        "\n",
        "`You DO NOT need to do this if you don't want to`\n",
        "\n",
        "* Once the data is collected, this HW should be quite easy, since most of the code can be recycled from the labs & textbook.\n",
        "\n",
        "* Do this in a file called `bonus.ipynb`, have it save its results to a folder \"data\"\n",
        "\n",
        "`Data collection`\n",
        "\n",
        "* Develope a text based classification data-set:\n",
        "* Use the Wikipedia API to search for articles to generate the data-set\n",
        "* Select a set of highly different topics (i.e. labels), for example,\n",
        "  * multi-class case: y=(pizza, oak_trees, basketball, ... , etc)=(0,1,2, ... , N-1)\n",
        "  * You don't have to use these, you can use whatever labels you want\n",
        "  * `Have AT LEAST 10 labels.`\n",
        "  * The more different the topics, the easier the classification task should be\n",
        "* Search for Wikipedia pages about these topics and harvest the text from the pages.\n",
        "* Do some basic text cleaning as needed.\n",
        "  * e.g. use the NLTK sentence tokenizer to break the text into sentences.\n",
        "  * Then form chunks of text that are five sentences long as your \"inputs\".\n",
        "* The \"label\" for these chunks will be the search label used to find the text.\n",
        "* The data set will not be perfect.\n",
        "  * There will be chunks of text that are not related to the topic (i.e. noise).\n",
        "  * However that is just something we have to live with.\n",
        "* **Important**: Always start small when writing & debugging THEN scale up.\n",
        "* The more chunks of text you have the better.\n",
        "  * Save the text and labels to the same format used by the textbook, that way you can recycle your lab code seamlessly.\n",
        "* `Optional practice`: You can also \"tag\" each chunk of text with an associated \"compound\" sentiment score computed using the NLTK sentiment analysis. From this you can train a regression model in part-2. This is somewhat silly, and is just for educational purposes, since your using a model output to train another model.\n",
        "\n",
        "`Model training`\n",
        "\n",
        "* Repeat the model training and hyper-parameter tuning exercise for MNIST, but with your text."
      ]
    }
  ],
  "metadata": {
    "accelerator": "GPU",
    "colab": {
      "gpuType": "V100",
      "provenance": []
    },
    "kernelspec": {
      "display_name": "Python 3",
      "name": "python3"
    },
    "language_info": {
      "codemirror_mode": {
        "name": "ipython",
        "version": 3
      },
      "file_extension": ".py",
      "mimetype": "text/x-python",
      "name": "python",
      "nbconvert_exporter": "python",
      "pygments_lexer": "ipython3",
      "version": "3.11.8"
    },
    "orig_nbformat": 4,
    "vscode": {
      "interpreter": {
        "hash": "3bbb781ca6673b7d7a2eaec0820775eebfaab6ec1fac7365fb415515f8c23aa5"
      }
    }
  },
  "nbformat": 4,
  "nbformat_minor": 0
}
