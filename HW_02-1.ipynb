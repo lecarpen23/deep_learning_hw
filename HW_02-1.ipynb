{
  "cells": [
    {
      "cell_type": "raw",
      "id": "f098f1a3",
      "metadata": {},
      "source": [
        "---\n",
        "title: Homework-2\n",
        "format:\n",
        "  html:\n",
        "    toc: true\n",
        "    self-contained: true\n",
        "    code-fold: false\n",
        "    output-file: Homework-02.html\n",
        "    embed-resources: true\n",
        "---"
      ]
    },
    {
      "cell_type": "markdown",
      "id": "2130b3e9",
      "metadata": {},
      "source": [
        "`ANN training in Keras or Pytorch & Hyper-parameter tuning`\n",
        "\n",
        "## Overview\n",
        "\n",
        "* Classification is one of the most common forms of supervised machine learning\n",
        "* In this homework we will explore \"model tuning\" for the case of a multi-class classification problem, as applied the MNIST data set\n",
        "* `You can do this assignment in either Keras OR PyTorch` (or both), it is your choice.\n",
        "\n",
        "## Submission\n",
        "\n",
        "* You need to upload TWO documents to Canvas when you are done\n",
        "  * (1) A PDF (or HTML) of the completed form of the `HW-2.ipynb` document\n",
        "* The final uploaded version should NOT have any code-errors present\n",
        "* All outputs must be visible in the uploaded version, including code-cell outputs, images, graphs, etc\n",
        "\n",
        "`IMPORTANT`: THERE ARE MANY WAYS TO DO THIS, SO FEEL FREE TO DEVIATE SLIGHTLY FROM THE EXACT DETAILS, BUT THE OVERALL RESULT AND FLOW SHOULD MATCH WHAT IS OUTLINED BELOW.\n",
        "\n",
        "\n",
        "### quick question\n",
        "\n",
        "The submission details say we need to upload two documents but then only list one? is the pdf/html as well as the ipynb?\n",
        "\n",
        "## HW-2.1: Data preparation\n",
        "\n",
        "* Normalize the data as needed\n",
        "* Partition data into training, validation, and test (i.e. leave one out CV)\n",
        "  * One option to do this is to give these arrays global scope so they are seen inside the training function (so they don't need to be passed to functions)\n",
        "* **Optional but recommended:** Create a K-fold cross validation data set, rather than just doing leave one out\n",
        "* Do any other preprocessing you feel is needed\n",
        "\n",
        "### Using Fashion MNIST\n",
        "\n",
        "99.999% sure Dr. Hickman said it was ok to use Fashion MNIST instead of regular MNIST, which I will be doing.\n"
      ]
    },
    {
      "cell_type": "code",
      "execution_count": 1,
      "id": "f1ce2589",
      "metadata": {},
      "outputs": [],
      "source": [
        "import torch\n",
        "from torch import nn\n",
        "\n",
        "import torchvision\n",
        "from torchvision import transforms\n",
        "from torchvision import datasets\n",
        "from torchvision.transforms import ToTensor\n",
        "\n",
        "from tqdm.auto import tqdm\n",
        "\n",
        "import numpy as np"
      ]
    },
    {
      "cell_type": "markdown",
      "id": "d45dd5ac",
      "metadata": {},
      "source": [
        "Normalizing the data below using ToTensor()\n"
      ]
    },
    {
      "cell_type": "code",
      "execution_count": 2,
      "id": "3968cdd5",
      "metadata": {},
      "outputs": [],
      "source": [
        "train_data = datasets.FashionMNIST(\n",
        "    root=\"data\",\n",
        "    train=True,\n",
        "    download=True,\n",
        "    transform=torchvision.transforms.ToTensor(),\n",
        "    target_transform=None\n",
        ")\n",
        "\n",
        "test_data = datasets.FashionMNIST(\n",
        "    root=\"data\",\n",
        "    train=False,\n",
        "    download=True,\n",
        "    transform=ToTensor(),\n",
        "    target_transform=None\n",
        ")\n",
        "\n",
        "class_names = train_data.classes"
      ]
    },
    {
      "cell_type": "code",
      "execution_count": 3,
      "id": "131222fc",
      "metadata": {
        "colab": {
          "base_uri": "https://localhost:8080/"
        }
      },
      "outputs": [
        {
          "name": "stdout",
          "output_type": "stream",
          "text": [
            "['T-shirt/top', 'Trouser', 'Pullover', 'Dress', 'Coat', 'Sandal', 'Shirt', 'Sneaker', 'Bag', 'Ankle boot']\n"
          ]
        }
      ],
      "source": [
        "print(class_names)"
      ]
    },
    {
      "cell_type": "code",
      "execution_count": 4,
      "id": "9b73828a",
      "metadata": {
        "colab": {
          "base_uri": "https://localhost:8080/"
        }
      },
      "outputs": [
        {
          "name": "stdout",
          "output_type": "stream",
          "text": [
            "Length Train: 60000\n",
            "Length Test: 10000\n"
          ]
        }
      ],
      "source": [
        "print(f'Length Train: {len(train_data)}')\n",
        "print(f'Length Test: {len(test_data)}')"
      ]
    },
    {
      "cell_type": "code",
      "execution_count": 5,
      "id": "db7d3691",
      "metadata": {},
      "outputs": [],
      "source": [
        "from torch.utils.data import random_split\n",
        "\n",
        "train_size = .9 * len(train_data)\n",
        "val_size = len(train_data) - train_size\n",
        "\n",
        "#make val 10% of train\n",
        "train_data, val_data = random_split(train_data, lengths=[.9, .1])"
      ]
    },
    {
      "cell_type": "markdown",
      "id": "dfbd3e27",
      "metadata": {},
      "source": [
        "Little heavy on the test data, so I went with just 10% of the traing data for validation\n"
      ]
    },
    {
      "cell_type": "code",
      "execution_count": 6,
      "id": "cb935aa4",
      "metadata": {
        "colab": {
          "base_uri": "https://localhost:8080/"
        }
      },
      "outputs": [
        {
          "name": "stdout",
          "output_type": "stream",
          "text": [
            "Length Train: 54000\n",
            "Length Val: 6000\n"
          ]
        }
      ],
      "source": [
        "print(f'Length Train: {len(train_data)}')\n",
        "print(f'Length Val: {len(val_data)}')"
      ]
    },
    {
      "cell_type": "code",
      "execution_count": 7,
      "id": "e9843ca8",
      "metadata": {
        "colab": {
          "base_uri": "https://localhost:8080/"
        }
      },
      "outputs": [
        {
          "data": {
            "text/plain": [
              "(<torch.utils.data.dataloader.DataLoader at 0x1867aa25ed0>,\n",
              " <torch.utils.data.dataloader.DataLoader at 0x1867aa1bc90>,\n",
              " <torch.utils.data.dataloader.DataLoader at 0x1867aa26910>)"
            ]
          },
          "execution_count": 7,
          "metadata": {},
          "output_type": "execute_result"
        }
      ],
      "source": [
        "from torch.utils.data import DataLoader\n",
        "BATCH_SIZE = 32\n",
        "\n",
        "train_dataloader = DataLoader(dataset=train_data,\n",
        "                              batch_size=BATCH_SIZE,\n",
        "                              shuffle=True)\n",
        "\n",
        "val_dataloader = DataLoader(dataset=val_data,\n",
        "                            batch_size=BATCH_SIZE,\n",
        "                            shuffle=True)\n",
        "\n",
        "test_dataloader = DataLoader(dataset=test_data,\n",
        "                              batch_size=BATCH_SIZE)\n",
        "\n",
        "train_dataloader, val_dataloader, test_dataloader"
      ]
    },
    {
      "cell_type": "code",
      "execution_count": 8,
      "id": "ef9fe2ad",
      "metadata": {},
      "outputs": [
        {
          "name": "stdout",
          "output_type": "stream",
          "text": [
            "2.2.1+cu121\n"
          ]
        }
      ],
      "source": [
        "print(torch.__version__)"
      ]
    },
    {
      "cell_type": "code",
      "execution_count": 9,
      "id": "be8c2823",
      "metadata": {
        "colab": {
          "base_uri": "https://localhost:8080/",
          "height": 35
        }
      },
      "outputs": [
        {
          "data": {
            "text/plain": [
              "device(type='cuda')"
            ]
          },
          "execution_count": 9,
          "metadata": {},
          "output_type": "execute_result"
        }
      ],
      "source": [
        "device = torch.device(\"cuda\" if torch.cuda.is_available() else \"cpu\")\n",
        "device"
      ]
    },
    {
      "cell_type": "markdown",
      "id": "63f2453c",
      "metadata": {},
      "source": [
        "Doing some visualization and shape printing below to make sure is loaded as expected.\n"
      ]
    },
    {
      "cell_type": "code",
      "execution_count": 10,
      "id": "90431537",
      "metadata": {},
      "outputs": [],
      "source": [
        "import random\n",
        "random.seed(42)\n",
        "train_samples = []\n",
        "train_labels = []\n",
        "\n",
        "val_samples = []\n",
        "val_labels = []\n",
        "\n",
        "test_samples = []\n",
        "test_labels = []\n",
        "for sample, label in random.sample(list(train_data), k=3):\n",
        "  train_samples.append(sample)\n",
        "  train_labels.append(label)\n",
        "\n",
        "for sample, label in random.sample(list(val_data), k=3):\n",
        "  val_samples.append(sample)\n",
        "  val_labels.append(label)\n",
        "\n",
        "for sample, label in random.sample(list(test_data), k=3):\n",
        "  test_samples.append(sample)\n",
        "  test_labels.append(label)"
      ]
    },
    {
      "cell_type": "code",
      "execution_count": 11,
      "id": "4f3ea6d4",
      "metadata": {
        "colab": {
          "base_uri": "https://localhost:8080/"
        }
      },
      "outputs": [
        {
          "name": "stdout",
          "output_type": "stream",
          "text": [
            "train length: 3\n",
            "val shape 0: torch.Size([1, 28, 28])\n",
            "test shape 2: torch.Size([1, 28, 28])\n"
          ]
        }
      ],
      "source": [
        "print(f'train length: {len(train_samples)}')\n",
        "print(f'val shape 0: {val_samples[0].shape}')\n",
        "print(f'test shape 2: {test_samples[2].shape}')"
      ]
    },
    {
      "cell_type": "markdown",
      "id": "6204e5af",
      "metadata": {},
      "source": [
        "Going to do a little visualization just to make sure the data is how I expect\n"
      ]
    },
    {
      "cell_type": "code",
      "execution_count": 12,
      "id": "b6a59e54",
      "metadata": {
        "colab": {
          "base_uri": "https://localhost:8080/",
          "height": 469
        }
      },
      "outputs": [
        {
          "data": {
            "text/plain": [
              "Text(0.5, 1.0, 'Sandal')"
            ]
          },
          "execution_count": 12,
          "metadata": {},
          "output_type": "execute_result"
        },
        {
          "data": {
            "image/png": "[encoded data removed]",
            "text/plain": [
              "<Figure size 640x480 with 1 Axes>"
            ]
          },
          "metadata": {},
          "output_type": "display_data"
        }
      ],
      "source": [
        "import matplotlib.pyplot as plt\n",
        "import seaborn as sns\n",
        "\n",
        "plt.imshow(train_samples[0].squeeze(), cmap='gray')\n",
        "plt.title(class_names[train_labels[0]])"
      ]
    },
    {
      "cell_type": "code",
      "execution_count": 13,
      "id": "7d25f8b8",
      "metadata": {
        "colab": {
          "base_uri": "https://localhost:8080/",
          "height": 469
        }
      },
      "outputs": [
        {
          "data": {
            "text/plain": [
              "Text(0.5, 1.0, 'Dress')"
            ]
          },
          "execution_count": 13,
          "metadata": {},
          "output_type": "execute_result"
        },
        {
          "data": {
            "image/png": "[encoded data removed]",
            "text/plain": [
              "<Figure size 640x480 with 1 Axes>"
            ]
          },
          "metadata": {},
          "output_type": "display_data"
        }
      ],
      "source": [
        "plt.imshow(val_samples[0].squeeze(), cmap='gray')\n",
        "plt.title(class_names[val_labels[0]])"
      ]
    },
    {
      "cell_type": "code",
      "execution_count": 14,
      "id": "2daa573b",
      "metadata": {
        "colab": {
          "base_uri": "https://localhost:8080/",
          "height": 469
        }
      },
      "outputs": [
        {
          "data": {
            "text/plain": [
              "Text(0.5, 1.0, 'T-shirt/top')"
            ]
          },
          "execution_count": 14,
          "metadata": {},
          "output_type": "execute_result"
        },
        {
          "data": {
            "image/png": "[encoded data removed]",
            "text/plain": [
              "<Figure size 640x480 with 1 Axes>"
            ]
          },
          "metadata": {},
          "output_type": "display_data"
        }
      ],
      "source": [
        "plt.imshow(test_samples[0].squeeze(), cmap='gray')\n",
        "plt.title(class_names[test_labels[0]])"
      ]
    },
    {
      "cell_type": "markdown",
      "id": "56280d6f",
      "metadata": {},
      "source": [
        "## HW-2.2: Generalized model\n",
        "\n",
        "* Create a `General` model function (or class) that takes hyper-parameters and evaluates the model\n",
        "  * The function should work with a set of hyper parameters than can be easily be controlled and varied by the user (for later parameter tuning)\n",
        "  * This should work for the training, test, and validation set\n",
        "* Feel free to recycle code from the lab assignments and demo's  \n",
        "* Use the deep learning best practices that we discussed in class.\n",
        "* Document what is going on in the code, as needed, with narrative markdown text between cells.\n",
        "\n",
        "Going to use a resnet like architecture for the model.\n"
      ]
    },
    {
      "cell_type": "code",
      "execution_count": 15,
      "id": "e4b52f22",
      "metadata": {},
      "outputs": [],
      "source": [
        "import torch.nn as nn\n",
        "\n",
        "class BasicResBlock(nn.Module):\n",
        "    def __init__(self, in_channels, out_channels, stride=1, dropout=0.15, padding=1, activation='relu'):\n",
        "        super().__init__()\n",
        "        self.conv1 = nn.Conv2d(in_channels, out_channels, kernel_size=3, stride=stride, padding=padding, bias=False)\n",
        "        self.bn1 = nn.BatchNorm2d(out_channels)\n",
        "        if activation == 'relu':\n",
        "          self.activation = nn.ReLU(inplace=True)\n",
        "        elif activation == 'sigmoid':\n",
        "          self.activation = nn.Sigmoid()\n",
        "        elif activation == 'tanh':\n",
        "          self.activation = nn.Tanh()\n",
        "        else:\n",
        "          print(f'Activation Given: {activation}')\n",
        "          print(type(activation))\n",
        "          raise ValueError(\"Activation Function Must Be relu or sigmoid\")\n",
        "        self.dropout = nn.Dropout(p=dropout)\n",
        "\n",
        "        self.conv2 = nn.Conv2d(out_channels, out_channels, kernel_size=3, stride=1, padding=padding, bias=False)\n",
        "        self.bn2 = nn.BatchNorm2d(out_channels)\n",
        "\n",
        "        self.shortcut = nn.Sequential()\n",
        "        if stride != 1 or in_channels != out_channels:\n",
        "            self.shortcut = nn.Sequential(\n",
        "                nn.Conv2d(in_channels, out_channels, kernel_size=1, stride=stride, bias=False),\n",
        "                nn.BatchNorm2d(out_channels)\n",
        "            )\n",
        "\n",
        "    def forward(self, x):\n",
        "        out = self.conv1(x)\n",
        "        out = self.bn1(out)\n",
        "        out = self.activation(out)\n",
        "        out = self.dropout(out)\n",
        "\n",
        "        out = self.conv2(out)\n",
        "        out = self.bn2(out)\n",
        "\n",
        "        shortcut = self.shortcut(x)\n",
        "\n",
        "        out += shortcut\n",
        "        out = self.activation(out)\n",
        "        return out\n",
        "\n",
        "\n",
        "class FashionMNISTResNet(nn.Module):\n",
        "    def __init__(self, input_shape, channels, output_shape, num_layers, activation='relu', dropout=.15):\n",
        "        super().__init__()\n",
        "        self.activation = nn.ReLU(inplace=True) if activation == 'relu' else nn.Sigmoid() if activation == 'sigmoid' else nn.Tanh()\n",
        "\n",
        "        #init the layers with conv2d and batchnorm2d\n",
        "        self.layers = nn.ModuleList([\n",
        "            nn.Conv2d(input_shape, channels[0], kernel_size=3, stride=1, padding=1),\n",
        "            nn.BatchNorm2d(channels[0]),\n",
        "            self.activation,\n",
        "            nn.Dropout(p=dropout)\n",
        "        ])\n",
        "\n",
        "        #add in resblocks\n",
        "        for i in range(num_layers):\n",
        "            self.layers.append(BasicResBlock(channels[i], channels[min(i+1, len(channels)-1)], activation=activation, dropout=dropout))\n",
        "            if i < len(channels) - 1:\n",
        "                self.layers.append(nn.Conv2d(channels[i], channels[i+1], kernel_size=3, stride=2, padding=1))\n",
        "                self.layers.append(nn.BatchNorm2d(channels[i+1]))\n",
        "                self.layers.append(self.activation)\n",
        "                self.layers.append(nn.Dropout(p=dropout))\n",
        "\n",
        "        #global average pooling\n",
        "        self.global_avg_pool = nn.AdaptiveAvgPool2d((1, 1))\n",
        "\n",
        "        #final linear layer\n",
        "        self.linear = nn.Linear(channels[-1], output_shape)\n",
        "\n",
        "    def forward(self, x):\n",
        "        for layer in self.layers:\n",
        "            x = layer(x)\n",
        "\n",
        "        x = self.global_avg_pool(x)  #apply global average pooling\n",
        "        x = x.view(x.size(0), -1)  #flatten\n",
        "        x = self.linear(x)\n",
        "        return x"
      ]
    },
    {
      "cell_type": "markdown",
      "id": "82fb0aaf",
      "metadata": {},
      "source": [
        "## HW-2.3: Model training function\n",
        "\n",
        "* You can do this in either a function (or python class), or however you think is best.\n",
        "* **Create a training function** (or class) that takes hyper-parameter choices and trains the model\n",
        "  * If you are doing \"leave one out\", your training function only needs to do one training per hyper-parameter choice\n",
        "  * If you are doing K-fold cross validation, you should train the model K times for each hyper-parameter choice, and report the average result cross the training runs at the end (this is technically a better practice but requires more computation).\n",
        "  * Use a dense feed forward ANN model, with the correct output layer activation, and correct loss function\n",
        "  * `You MUST use early stopping` inside the function, otherwise it defeats the point\n",
        "  * **Have at least the following hyper-parameters as inputs to this function**\n",
        "    * L1 regularization constant, L2 regularization constant, dropout rate\n",
        "    * Learning rate\n",
        "    * Weight Initialization: Fully random vs Xavier Weight Initialization\n",
        "    * Hidden layer activation function choice (use relu, sigmoid, or tanh)\n",
        "    * Number and size of ANN hidden layers\n",
        "    * Optimizer choice, have at least three included (Adam, SGD, or RmsProp)\n",
        "    * You can wrap all of the hyper-parameter arguments into a dictionary, or do it however you want  \n",
        "  * **Visualization**\n",
        "    * Include a boolean parameter as a function input that controls whether visualization is created or not\n",
        "    * If `true`, Monitor training and validation throughout training by plotting\n",
        "    * Report a confusion matrix\n",
        "  * Return the final training and validation error (averaged if using K-fold)\n",
        "    * again, you must use early stopping to report the best training/validation loss without over-fitting\n",
        "* Depending how you do this, it can be a lot of computation, start small and scale up and consider using Co-lab\n",
        "  \n",
        "\n",
        "Performed 2.3 as a function. All of the mentioned hyperparameters are adjusted during the hyperparameter training below. Also, with Dr Hickman saying we could use fashion MNIST rather than just MNIST I thought it made more sense to use a cnn rather than just a dense feed forward ANN and that it would still acomplish the learning objectives. Additionally, I'm interested in computer vision problems and wanted to take the chance to better understand CNN architectures. \n"
      ]
    },
    {
      "cell_type": "code",
      "execution_count": 17,
      "id": "21805fee",
      "metadata": {},
      "outputs": [],
      "source": [
        "from sklearn.metrics import confusion_matrix\n",
        "\n",
        "def train_model(model, dataloaders, criterion, num_epochs, optimizer='adam', early_stopping_patience=10, visualize=True, l1_strength=0.0, l2_strength=0.0, lr=0.001, init_type='random'):\n",
        "    device = torch.device(\"cuda:0\" if torch.cuda.is_available() else \"cpu\")\n",
        "    model.to(device)\n",
        "\n",
        "    optimizer = optimizer.lower()\n",
        "\n",
        "    if optimizer == 'adam':\n",
        "        optimizer = torch.optim.Adam(model.parameters(), lr=lr)\n",
        "    elif optimizer == 'sgd':\n",
        "        optimizer = torch.optim.SGD(model.parameters(), lr=lr)\n",
        "    elif optimizer == 'rmsprop':\n",
        "        optimizer = torch.optim.RMSprop(model.parameters(), lr=lr)\n",
        "    else:\n",
        "        raise ValueError(\"Unsupported optimizer\")\n",
        "\n",
        "    best_model_wts = copy.deepcopy(model.state_dict())\n",
        "    best_val_loss = float('inf')\n",
        "    epochs_no_improve = 0  #early stopping counter\n",
        "\n",
        "    train_losses, val_losses = [], []\n",
        "    best_confusion_matrix = None\n",
        "    best_train_loss = float('inf')\n",
        "\n",
        "    for epoch in range(num_epochs):\n",
        "        if epoch % 10 == 0:\n",
        "          print(f'Epoch {epoch+1}/{num_epochs}')\n",
        "          print('-' * 10)\n",
        "\n",
        "        for phase in ['train', 'val']:\n",
        "            if phase == 'train':\n",
        "                model.train()\n",
        "            else:\n",
        "                model.eval()\n",
        "\n",
        "            running_loss = 0.0\n",
        "            my_labels, my_preds = [], []\n",
        "\n",
        "            for inputs, labels in dataloaders[phase]:\n",
        "                inputs = inputs.to(device)\n",
        "                labels = labels.to(device)\n",
        "\n",
        "                #zero the gradients\n",
        "                optimizer.zero_grad()\n",
        "\n",
        "                #forward\n",
        "                with torch.set_grad_enabled(phase == 'train'):\n",
        "                    outputs = model(inputs)\n",
        "                    loss = criterion(outputs, labels)\n",
        "\n",
        "                    #add in l1 and l2 regularization\n",
        "                    if l1_strength > 0:\n",
        "                        l1_regularization = torch.tensor(0., requires_grad=True).to(device)\n",
        "                        for param in model.parameters():\n",
        "                            l1_regularization = l1_regularization + torch.norm(param, 1)\n",
        "                        loss += l1_strength * l1_regularization\n",
        "                    \n",
        "                    if l2_strength > 0:\n",
        "                        l2_regularization = torch.tensor(0., requires_grad=True).to(device)\n",
        "                        for param in model.parameters():\n",
        "                            l2_regularization = l2_regularization + torch.norm(param, 2)\n",
        "                        loss += l2_strength * l2_regularization\n",
        "\n",
        "                    #backward and optimize only if in training phase\n",
        "                    if phase == 'train':\n",
        "                        loss.backward()\n",
        "                        optimizer.step()\n",
        "\n",
        "                # Statistics\n",
        "                running_loss += loss.item() * inputs.size(0)\n",
        "\n",
        "                _, preds = torch.max(outputs, 1)\n",
        "                my_labels.extend(labels.cpu().numpy())\n",
        "                my_preds.extend(preds.cpu().numpy())\n",
        "\n",
        "            epoch_loss = running_loss / len(dataloaders[phase].dataset)\n",
        "            if epoch % 10 == 0:\n",
        "              print(f'{phase} Loss: {epoch_loss:.4f}')\n",
        "\n",
        "            #deep copy the model and implement early stopping\n",
        "            if phase == 'val':\n",
        "                val_losses.append(epoch_loss)\n",
        "\n",
        "                if epoch_loss < best_val_loss:\n",
        "                    best_val_loss = epoch_loss\n",
        "                    best_model_wts = copy.deepcopy(model.state_dict())\n",
        "                    epochs_no_improve = 0\n",
        "                    best_confusion_matrix = confusion_matrix(my_labels, my_preds)\n",
        "                else:\n",
        "                    epochs_no_improve += 1\n",
        "            else:\n",
        "                train_losses.append(epoch_loss)\n",
        "                if epoch_loss < best_train_loss:\n",
        "                  best_train_loss = epoch_loss\n",
        "\n",
        "        if epochs_no_improve >= early_stopping_patience:\n",
        "            print(\"Stopping Early\")\n",
        "            break\n",
        "\n",
        "    if visualize:\n",
        "        plt.plot(train_losses, label='Training loss')\n",
        "        plt.plot(val_losses, label='Validation loss')\n",
        "        plt.xlabel('Epochs')\n",
        "        plt.ylabel('Loss')\n",
        "        plt.title(f'Training with Learning Rate {lr} and Initialization {init_type}')\n",
        "        plt.legend()\n",
        "        plt.show()\n",
        "\n",
        "    # Load best model weights\n",
        "    model.load_state_dict(best_model_wts)\n",
        "\n",
        "    print(best_confusion_matrix)\n",
        "    return model, best_train_loss, best_val_loss"
      ]
    },
    {
      "cell_type": "markdown",
      "id": "f8f4300d",
      "metadata": {},
      "source": [
        "## HW-2.4: Hyper-parameter tuning\n",
        "\n",
        "* Keep detailed records of hyper-parameter choices and associated training & validation errors\n",
        "* Think critically and visualize the results of the search as needed\n",
        "\n",
        "* **Do each of these in a different sub-section of your notebook**\n",
        "  \n",
        "* **Explore hyper-parameter choice-0**\n",
        "  * for hidden activation=Relu, hidden layers = [32,32], optimizer=adam\n",
        "  * Vary the learning rate via a grid search pattern\n",
        "  * Plot training and validation error as a function of the learning rate\n",
        "  * Repeat this exercise for both random and Xavier weight initialization\n",
        "\n",
        "* **Explore hyper-parameter choice-1**\n",
        "  * for hidden activation=relu, hidden layers = [64,64], optimizer=adam\n",
        "  * Vary L1 and L2 in a 10x10 grid search (without dropout)\n",
        "  * Plot validation and training error as a function of L1 and L2 regularization in a 2D heatmap\n",
        "  * Plot the ratio (or difference) of validation to training error as a function of L1 and L2 regularization in a 2D heatmap\n",
        "\n",
        "* **Explore hyper-parameter choice-2**\n",
        "  * for hidden activation=sigmoid, hidden layers = [96,96,96], optimizer=**rmsprop**\n",
        "  * Vary drop-out parameter in a 1x10 grid search (without L1 or L2 regularization)\n",
        "  * Plot training and validation error as a function of dropout rate  \n",
        "  * Plot the ratio (or difference) of validation to training error as a function of dropout rate  \n",
        "\n",
        "* **Explore hyper-parameter choice-3:**\n",
        "  * for hidden activation=relu, hidden layers = [96,96,96], optimizer=**adam**\n",
        "  * Vary drop-out parameter in a 1x10 grid search (without L1 or L2 regularization)\n",
        "  * Plot training and validation as a function of dropout rate  \n",
        "  * Plot the ratio (or difference) of validation to training error as a function of dropout rate  \n",
        "\n",
        "* `Optional` Systematically search for the best regularization parameters choice (3D search) using random search algorithm\n",
        "  * (https://en.wikipedia.org/wiki/Random_search)[https://en.wikipedia.org/wiki/Random_search]\n",
        "  * Try to see how deep you can get the ANN (max hidden layers) without suffering from the vanishing gradient effect  \n",
        "  \n",
        "* `Final fit`\n",
        "  * At the very end, select a best fit model and report, training, validation, and test errors at the very end\n",
        "  * Make sure your \"plotting variable=True\" when for the final training\n",
        "  \n",
        "\n",
        "Hyperparameter Choice 0\n",
        "\n",
        "Notes: I started with more learning rates, but eventually narrowed it down to these 3 to save time. The epochs are higher on this run because I want to give some of the smaller learning rates a chance to converge. I like the learning rate 0.0001 for this portion because it does converges in a timely manner while remaining stable. Additionally, I didnt see a huge difference between random and xavier initialization, but I think xavier performed slighly better. \n"
      ]
    },
    {
      "cell_type": "code",
      "execution_count": 19,
      "id": "602bcc9d",
      "metadata": {
        "colab": {
          "base_uri": "https://localhost:8080/"
        }
      },
      "outputs": [
        {
          "name": "stdout",
          "output_type": "stream",
          "text": [
            "Epoch 1/30\n",
            "----------\n",
            "train Loss: 2.1556\n",
            "val Loss: 1.9853\n"
          ]
        },
        {
          "ename": "KeyboardInterrupt",
          "evalue": "",
          "output_type": "error",
          "traceback": [
            "\u001b[1;31m---------------------------------------------------------------------------\u001b[0m",
            "\u001b[1;31mKeyboardInterrupt\u001b[0m                         Traceback (most recent call last)",
            "Cell \u001b[1;32mIn[19], line 31\u001b[0m\n\u001b[0;32m     28\u001b[0m model\u001b[38;5;241m.\u001b[39mapply(\u001b[38;5;28;01mlambda\u001b[39;00m m: init_weights(m, init_type\u001b[38;5;241m=\u001b[39minit_type))\n\u001b[0;32m     30\u001b[0m \u001b[38;5;66;03m#train model\u001b[39;00m\n\u001b[1;32m---> 31\u001b[0m trained_model, best_train_loss, best_val_loss \u001b[38;5;241m=\u001b[39m \u001b[43mtrain_model\u001b[49m\u001b[43m(\u001b[49m\u001b[43mmodel\u001b[49m\u001b[43m,\u001b[49m\u001b[43m \u001b[49m\u001b[43m{\u001b[49m\u001b[38;5;124;43m'\u001b[39;49m\u001b[38;5;124;43mtrain\u001b[39;49m\u001b[38;5;124;43m'\u001b[39;49m\u001b[43m:\u001b[49m\u001b[43m \u001b[49m\u001b[43mtrain_dataloader\u001b[49m\u001b[43m,\u001b[49m\u001b[43m \u001b[49m\u001b[38;5;124;43m'\u001b[39;49m\u001b[38;5;124;43mval\u001b[39;49m\u001b[38;5;124;43m'\u001b[39;49m\u001b[43m:\u001b[49m\u001b[43m \u001b[49m\u001b[43mval_dataloader\u001b[49m\u001b[43m}\u001b[49m\u001b[43m,\u001b[49m\n\u001b[0;32m     32\u001b[0m \u001b[43m                                           \u001b[49m\u001b[43mcriterion\u001b[49m\u001b[43m,\u001b[49m\u001b[43m \u001b[49m\u001b[43moptimizer\u001b[49m\u001b[38;5;241;43m=\u001b[39;49m\u001b[38;5;124;43m'\u001b[39;49m\u001b[38;5;124;43madam\u001b[39;49m\u001b[38;5;124;43m'\u001b[39;49m\u001b[43m,\u001b[49m\n\u001b[0;32m     33\u001b[0m \u001b[43m                                           \u001b[49m\u001b[43mnum_epochs\u001b[49m\u001b[38;5;241;43m=\u001b[39;49m\u001b[38;5;241;43m30\u001b[39;49m\u001b[43m,\u001b[49m\u001b[43m \u001b[49m\u001b[43mearly_stopping_patience\u001b[49m\u001b[38;5;241;43m=\u001b[39;49m\u001b[38;5;241;43m5\u001b[39;49m\u001b[43m,\u001b[49m\u001b[43m \u001b[49m\u001b[43mvisualize\u001b[49m\u001b[38;5;241;43m=\u001b[39;49m\u001b[38;5;28;43;01mTrue\u001b[39;49;00m\u001b[43m,\u001b[49m\u001b[43m \u001b[49m\u001b[43mlr\u001b[49m\u001b[38;5;241;43m=\u001b[39;49m\u001b[43mlr\u001b[49m\u001b[43m,\u001b[49m\u001b[43m \u001b[49m\u001b[43minit_type\u001b[49m\u001b[38;5;241;43m=\u001b[39;49m\u001b[43minit_type\u001b[49m\u001b[43m)\u001b[49m\n\u001b[0;32m     35\u001b[0m \u001b[38;5;66;03m#save results\u001b[39;00m\n\u001b[0;32m     36\u001b[0m results[init_type]\u001b[38;5;241m.\u001b[39mappend({\u001b[38;5;124m'\u001b[39m\u001b[38;5;124mlr\u001b[39m\u001b[38;5;124m'\u001b[39m: lr, \u001b[38;5;124m'\u001b[39m\u001b[38;5;124mbest_val_loss\u001b[39m\u001b[38;5;124m'\u001b[39m: best_val_loss})\n",
            "Cell \u001b[1;32mIn[17], line 49\u001b[0m, in \u001b[0;36mtrain_model\u001b[1;34m(model, dataloaders, criterion, num_epochs, optimizer, early_stopping_patience, visualize, l1_strength, l2_strength, lr, init_type)\u001b[0m\n\u001b[0;32m     47\u001b[0m \u001b[38;5;66;03m#forward\u001b[39;00m\n\u001b[0;32m     48\u001b[0m \u001b[38;5;28;01mwith\u001b[39;00m torch\u001b[38;5;241m.\u001b[39mset_grad_enabled(phase \u001b[38;5;241m==\u001b[39m \u001b[38;5;124m'\u001b[39m\u001b[38;5;124mtrain\u001b[39m\u001b[38;5;124m'\u001b[39m):\n\u001b[1;32m---> 49\u001b[0m     outputs \u001b[38;5;241m=\u001b[39m \u001b[43mmodel\u001b[49m\u001b[43m(\u001b[49m\u001b[43minputs\u001b[49m\u001b[43m)\u001b[49m\n\u001b[0;32m     50\u001b[0m     loss \u001b[38;5;241m=\u001b[39m criterion(outputs, labels)\n\u001b[0;32m     52\u001b[0m     \u001b[38;5;66;03m#add in l1 and l2 regularization\u001b[39;00m\n",
            "File \u001b[1;32mc:\\Users\\lando\\AppData\\Local\\Programs\\Python\\Python311\\Lib\\site-packages\\torch\\nn\\modules\\module.py:1511\u001b[0m, in \u001b[0;36mModule._wrapped_call_impl\u001b[1;34m(self, *args, **kwargs)\u001b[0m\n\u001b[0;32m   1509\u001b[0m     \u001b[38;5;28;01mreturn\u001b[39;00m \u001b[38;5;28mself\u001b[39m\u001b[38;5;241m.\u001b[39m_compiled_call_impl(\u001b[38;5;241m*\u001b[39margs, \u001b[38;5;241m*\u001b[39m\u001b[38;5;241m*\u001b[39mkwargs)  \u001b[38;5;66;03m# type: ignore[misc]\u001b[39;00m\n\u001b[0;32m   1510\u001b[0m \u001b[38;5;28;01melse\u001b[39;00m:\n\u001b[1;32m-> 1511\u001b[0m     \u001b[38;5;28;01mreturn\u001b[39;00m \u001b[38;5;28;43mself\u001b[39;49m\u001b[38;5;241;43m.\u001b[39;49m\u001b[43m_call_impl\u001b[49m\u001b[43m(\u001b[49m\u001b[38;5;241;43m*\u001b[39;49m\u001b[43margs\u001b[49m\u001b[43m,\u001b[49m\u001b[43m \u001b[49m\u001b[38;5;241;43m*\u001b[39;49m\u001b[38;5;241;43m*\u001b[39;49m\u001b[43mkwargs\u001b[49m\u001b[43m)\u001b[49m\n",
            "File \u001b[1;32mc:\\Users\\lando\\AppData\\Local\\Programs\\Python\\Python311\\Lib\\site-packages\\torch\\nn\\modules\\module.py:1520\u001b[0m, in \u001b[0;36mModule._call_impl\u001b[1;34m(self, *args, **kwargs)\u001b[0m\n\u001b[0;32m   1515\u001b[0m \u001b[38;5;66;03m# If we don't have any hooks, we want to skip the rest of the logic in\u001b[39;00m\n\u001b[0;32m   1516\u001b[0m \u001b[38;5;66;03m# this function, and just call forward.\u001b[39;00m\n\u001b[0;32m   1517\u001b[0m \u001b[38;5;28;01mif\u001b[39;00m \u001b[38;5;129;01mnot\u001b[39;00m (\u001b[38;5;28mself\u001b[39m\u001b[38;5;241m.\u001b[39m_backward_hooks \u001b[38;5;129;01mor\u001b[39;00m \u001b[38;5;28mself\u001b[39m\u001b[38;5;241m.\u001b[39m_backward_pre_hooks \u001b[38;5;129;01mor\u001b[39;00m \u001b[38;5;28mself\u001b[39m\u001b[38;5;241m.\u001b[39m_forward_hooks \u001b[38;5;129;01mor\u001b[39;00m \u001b[38;5;28mself\u001b[39m\u001b[38;5;241m.\u001b[39m_forward_pre_hooks\n\u001b[0;32m   1518\u001b[0m         \u001b[38;5;129;01mor\u001b[39;00m _global_backward_pre_hooks \u001b[38;5;129;01mor\u001b[39;00m _global_backward_hooks\n\u001b[0;32m   1519\u001b[0m         \u001b[38;5;129;01mor\u001b[39;00m _global_forward_hooks \u001b[38;5;129;01mor\u001b[39;00m _global_forward_pre_hooks):\n\u001b[1;32m-> 1520\u001b[0m     \u001b[38;5;28;01mreturn\u001b[39;00m \u001b[43mforward_call\u001b[49m\u001b[43m(\u001b[49m\u001b[38;5;241;43m*\u001b[39;49m\u001b[43margs\u001b[49m\u001b[43m,\u001b[49m\u001b[43m \u001b[49m\u001b[38;5;241;43m*\u001b[39;49m\u001b[38;5;241;43m*\u001b[39;49m\u001b[43mkwargs\u001b[49m\u001b[43m)\u001b[49m\n\u001b[0;32m   1522\u001b[0m \u001b[38;5;28;01mtry\u001b[39;00m:\n\u001b[0;32m   1523\u001b[0m     result \u001b[38;5;241m=\u001b[39m \u001b[38;5;28;01mNone\u001b[39;00m\n",
            "Cell \u001b[1;32mIn[15], line 76\u001b[0m, in \u001b[0;36mFashionMNISTResNet.forward\u001b[1;34m(self, x)\u001b[0m\n\u001b[0;32m     74\u001b[0m \u001b[38;5;28;01mdef\u001b[39;00m \u001b[38;5;21mforward\u001b[39m(\u001b[38;5;28mself\u001b[39m, x):\n\u001b[0;32m     75\u001b[0m     \u001b[38;5;28;01mfor\u001b[39;00m layer \u001b[38;5;129;01min\u001b[39;00m \u001b[38;5;28mself\u001b[39m\u001b[38;5;241m.\u001b[39mlayers:\n\u001b[1;32m---> 76\u001b[0m         x \u001b[38;5;241m=\u001b[39m \u001b[43mlayer\u001b[49m\u001b[43m(\u001b[49m\u001b[43mx\u001b[49m\u001b[43m)\u001b[49m\n\u001b[0;32m     78\u001b[0m     x \u001b[38;5;241m=\u001b[39m \u001b[38;5;28mself\u001b[39m\u001b[38;5;241m.\u001b[39mglobal_avg_pool(x)  \u001b[38;5;66;03m#apply global average pooling\u001b[39;00m\n\u001b[0;32m     79\u001b[0m     x \u001b[38;5;241m=\u001b[39m x\u001b[38;5;241m.\u001b[39mview(x\u001b[38;5;241m.\u001b[39msize(\u001b[38;5;241m0\u001b[39m), \u001b[38;5;241m-\u001b[39m\u001b[38;5;241m1\u001b[39m)  \u001b[38;5;66;03m#flatten\u001b[39;00m\n",
            "File \u001b[1;32mc:\\Users\\lando\\AppData\\Local\\Programs\\Python\\Python311\\Lib\\site-packages\\torch\\nn\\modules\\module.py:1511\u001b[0m, in \u001b[0;36mModule._wrapped_call_impl\u001b[1;34m(self, *args, **kwargs)\u001b[0m\n\u001b[0;32m   1509\u001b[0m     \u001b[38;5;28;01mreturn\u001b[39;00m \u001b[38;5;28mself\u001b[39m\u001b[38;5;241m.\u001b[39m_compiled_call_impl(\u001b[38;5;241m*\u001b[39margs, \u001b[38;5;241m*\u001b[39m\u001b[38;5;241m*\u001b[39mkwargs)  \u001b[38;5;66;03m# type: ignore[misc]\u001b[39;00m\n\u001b[0;32m   1510\u001b[0m \u001b[38;5;28;01melse\u001b[39;00m:\n\u001b[1;32m-> 1511\u001b[0m     \u001b[38;5;28;01mreturn\u001b[39;00m \u001b[38;5;28;43mself\u001b[39;49m\u001b[38;5;241;43m.\u001b[39;49m\u001b[43m_call_impl\u001b[49m\u001b[43m(\u001b[49m\u001b[38;5;241;43m*\u001b[39;49m\u001b[43margs\u001b[49m\u001b[43m,\u001b[49m\u001b[43m \u001b[49m\u001b[38;5;241;43m*\u001b[39;49m\u001b[38;5;241;43m*\u001b[39;49m\u001b[43mkwargs\u001b[49m\u001b[43m)\u001b[49m\n",
            "File \u001b[1;32mc:\\Users\\lando\\AppData\\Local\\Programs\\Python\\Python311\\Lib\\site-packages\\torch\\nn\\modules\\module.py:1520\u001b[0m, in \u001b[0;36mModule._call_impl\u001b[1;34m(self, *args, **kwargs)\u001b[0m\n\u001b[0;32m   1515\u001b[0m \u001b[38;5;66;03m# If we don't have any hooks, we want to skip the rest of the logic in\u001b[39;00m\n\u001b[0;32m   1516\u001b[0m \u001b[38;5;66;03m# this function, and just call forward.\u001b[39;00m\n\u001b[0;32m   1517\u001b[0m \u001b[38;5;28;01mif\u001b[39;00m \u001b[38;5;129;01mnot\u001b[39;00m (\u001b[38;5;28mself\u001b[39m\u001b[38;5;241m.\u001b[39m_backward_hooks \u001b[38;5;129;01mor\u001b[39;00m \u001b[38;5;28mself\u001b[39m\u001b[38;5;241m.\u001b[39m_backward_pre_hooks \u001b[38;5;129;01mor\u001b[39;00m \u001b[38;5;28mself\u001b[39m\u001b[38;5;241m.\u001b[39m_forward_hooks \u001b[38;5;129;01mor\u001b[39;00m \u001b[38;5;28mself\u001b[39m\u001b[38;5;241m.\u001b[39m_forward_pre_hooks\n\u001b[0;32m   1518\u001b[0m         \u001b[38;5;129;01mor\u001b[39;00m _global_backward_pre_hooks \u001b[38;5;129;01mor\u001b[39;00m _global_backward_hooks\n\u001b[0;32m   1519\u001b[0m         \u001b[38;5;129;01mor\u001b[39;00m _global_forward_hooks \u001b[38;5;129;01mor\u001b[39;00m _global_forward_pre_hooks):\n\u001b[1;32m-> 1520\u001b[0m     \u001b[38;5;28;01mreturn\u001b[39;00m \u001b[43mforward_call\u001b[49m\u001b[43m(\u001b[49m\u001b[38;5;241;43m*\u001b[39;49m\u001b[43margs\u001b[49m\u001b[43m,\u001b[49m\u001b[43m \u001b[49m\u001b[38;5;241;43m*\u001b[39;49m\u001b[38;5;241;43m*\u001b[39;49m\u001b[43mkwargs\u001b[49m\u001b[43m)\u001b[49m\n\u001b[0;32m   1522\u001b[0m \u001b[38;5;28;01mtry\u001b[39;00m:\n\u001b[0;32m   1523\u001b[0m     result \u001b[38;5;241m=\u001b[39m \u001b[38;5;28;01mNone\u001b[39;00m\n",
            "Cell \u001b[1;32mIn[15], line 32\u001b[0m, in \u001b[0;36mBasicResBlock.forward\u001b[1;34m(self, x)\u001b[0m\n\u001b[0;32m     30\u001b[0m \u001b[38;5;28;01mdef\u001b[39;00m \u001b[38;5;21mforward\u001b[39m(\u001b[38;5;28mself\u001b[39m, x):\n\u001b[0;32m     31\u001b[0m     out \u001b[38;5;241m=\u001b[39m \u001b[38;5;28mself\u001b[39m\u001b[38;5;241m.\u001b[39mconv1(x)\n\u001b[1;32m---> 32\u001b[0m     out \u001b[38;5;241m=\u001b[39m \u001b[38;5;28;43mself\u001b[39;49m\u001b[38;5;241;43m.\u001b[39;49m\u001b[43mbn1\u001b[49m\u001b[43m(\u001b[49m\u001b[43mout\u001b[49m\u001b[43m)\u001b[49m\n\u001b[0;32m     33\u001b[0m     out \u001b[38;5;241m=\u001b[39m \u001b[38;5;28mself\u001b[39m\u001b[38;5;241m.\u001b[39mactivation(out)\n\u001b[0;32m     34\u001b[0m     out \u001b[38;5;241m=\u001b[39m \u001b[38;5;28mself\u001b[39m\u001b[38;5;241m.\u001b[39mdropout(out)\n",
            "File \u001b[1;32mc:\\Users\\lando\\AppData\\Local\\Programs\\Python\\Python311\\Lib\\site-packages\\torch\\nn\\modules\\module.py:1511\u001b[0m, in \u001b[0;36mModule._wrapped_call_impl\u001b[1;34m(self, *args, **kwargs)\u001b[0m\n\u001b[0;32m   1509\u001b[0m     \u001b[38;5;28;01mreturn\u001b[39;00m \u001b[38;5;28mself\u001b[39m\u001b[38;5;241m.\u001b[39m_compiled_call_impl(\u001b[38;5;241m*\u001b[39margs, \u001b[38;5;241m*\u001b[39m\u001b[38;5;241m*\u001b[39mkwargs)  \u001b[38;5;66;03m# type: ignore[misc]\u001b[39;00m\n\u001b[0;32m   1510\u001b[0m \u001b[38;5;28;01melse\u001b[39;00m:\n\u001b[1;32m-> 1511\u001b[0m     \u001b[38;5;28;01mreturn\u001b[39;00m \u001b[38;5;28;43mself\u001b[39;49m\u001b[38;5;241;43m.\u001b[39;49m\u001b[43m_call_impl\u001b[49m\u001b[43m(\u001b[49m\u001b[38;5;241;43m*\u001b[39;49m\u001b[43margs\u001b[49m\u001b[43m,\u001b[49m\u001b[43m \u001b[49m\u001b[38;5;241;43m*\u001b[39;49m\u001b[38;5;241;43m*\u001b[39;49m\u001b[43mkwargs\u001b[49m\u001b[43m)\u001b[49m\n",
            "File \u001b[1;32mc:\\Users\\lando\\AppData\\Local\\Programs\\Python\\Python311\\Lib\\site-packages\\torch\\nn\\modules\\module.py:1520\u001b[0m, in \u001b[0;36mModule._call_impl\u001b[1;34m(self, *args, **kwargs)\u001b[0m\n\u001b[0;32m   1515\u001b[0m \u001b[38;5;66;03m# If we don't have any hooks, we want to skip the rest of the logic in\u001b[39;00m\n\u001b[0;32m   1516\u001b[0m \u001b[38;5;66;03m# this function, and just call forward.\u001b[39;00m\n\u001b[0;32m   1517\u001b[0m \u001b[38;5;28;01mif\u001b[39;00m \u001b[38;5;129;01mnot\u001b[39;00m (\u001b[38;5;28mself\u001b[39m\u001b[38;5;241m.\u001b[39m_backward_hooks \u001b[38;5;129;01mor\u001b[39;00m \u001b[38;5;28mself\u001b[39m\u001b[38;5;241m.\u001b[39m_backward_pre_hooks \u001b[38;5;129;01mor\u001b[39;00m \u001b[38;5;28mself\u001b[39m\u001b[38;5;241m.\u001b[39m_forward_hooks \u001b[38;5;129;01mor\u001b[39;00m \u001b[38;5;28mself\u001b[39m\u001b[38;5;241m.\u001b[39m_forward_pre_hooks\n\u001b[0;32m   1518\u001b[0m         \u001b[38;5;129;01mor\u001b[39;00m _global_backward_pre_hooks \u001b[38;5;129;01mor\u001b[39;00m _global_backward_hooks\n\u001b[0;32m   1519\u001b[0m         \u001b[38;5;129;01mor\u001b[39;00m _global_forward_hooks \u001b[38;5;129;01mor\u001b[39;00m _global_forward_pre_hooks):\n\u001b[1;32m-> 1520\u001b[0m     \u001b[38;5;28;01mreturn\u001b[39;00m \u001b[43mforward_call\u001b[49m\u001b[43m(\u001b[49m\u001b[38;5;241;43m*\u001b[39;49m\u001b[43margs\u001b[49m\u001b[43m,\u001b[49m\u001b[43m \u001b[49m\u001b[38;5;241;43m*\u001b[39;49m\u001b[38;5;241;43m*\u001b[39;49m\u001b[43mkwargs\u001b[49m\u001b[43m)\u001b[49m\n\u001b[0;32m   1522\u001b[0m \u001b[38;5;28;01mtry\u001b[39;00m:\n\u001b[0;32m   1523\u001b[0m     result \u001b[38;5;241m=\u001b[39m \u001b[38;5;28;01mNone\u001b[39;00m\n",
            "File \u001b[1;32mc:\\Users\\lando\\AppData\\Local\\Programs\\Python\\Python311\\Lib\\site-packages\\torch\\nn\\modules\\batchnorm.py:175\u001b[0m, in \u001b[0;36m_BatchNorm.forward\u001b[1;34m(self, input)\u001b[0m\n\u001b[0;32m    168\u001b[0m     bn_training \u001b[38;5;241m=\u001b[39m (\u001b[38;5;28mself\u001b[39m\u001b[38;5;241m.\u001b[39mrunning_mean \u001b[38;5;129;01mis\u001b[39;00m \u001b[38;5;28;01mNone\u001b[39;00m) \u001b[38;5;129;01mand\u001b[39;00m (\u001b[38;5;28mself\u001b[39m\u001b[38;5;241m.\u001b[39mrunning_var \u001b[38;5;129;01mis\u001b[39;00m \u001b[38;5;28;01mNone\u001b[39;00m)\n\u001b[0;32m    170\u001b[0m \u001b[38;5;250m\u001b[39m\u001b[38;5;124mr\u001b[39m\u001b[38;5;124;03m\"\"\"\u001b[39;00m\n\u001b[0;32m    171\u001b[0m \u001b[38;5;124;03mBuffers are only updated if they are to be tracked and we are in training mode. Thus they only need to be\u001b[39;00m\n\u001b[0;32m    172\u001b[0m \u001b[38;5;124;03mpassed when the update should occur (i.e. in training mode when they are tracked), or when buffer stats are\u001b[39;00m\n\u001b[0;32m    173\u001b[0m \u001b[38;5;124;03mused for normalization (i.e. in eval mode when buffers are not None).\u001b[39;00m\n\u001b[0;32m    174\u001b[0m \u001b[38;5;124;03m\"\"\"\u001b[39;00m\n\u001b[1;32m--> 175\u001b[0m \u001b[38;5;28;01mreturn\u001b[39;00m \u001b[43mF\u001b[49m\u001b[38;5;241;43m.\u001b[39;49m\u001b[43mbatch_norm\u001b[49m\u001b[43m(\u001b[49m\n\u001b[0;32m    176\u001b[0m \u001b[43m    \u001b[49m\u001b[38;5;28;43minput\u001b[39;49m\u001b[43m,\u001b[49m\n\u001b[0;32m    177\u001b[0m \u001b[43m    \u001b[49m\u001b[38;5;66;43;03m# If buffers are not to be tracked, ensure that they won't be updated\u001b[39;49;00m\n\u001b[0;32m    178\u001b[0m \u001b[43m    \u001b[49m\u001b[38;5;28;43mself\u001b[39;49m\u001b[38;5;241;43m.\u001b[39;49m\u001b[43mrunning_mean\u001b[49m\n\u001b[0;32m    179\u001b[0m \u001b[43m    \u001b[49m\u001b[38;5;28;43;01mif\u001b[39;49;00m\u001b[43m \u001b[49m\u001b[38;5;129;43;01mnot\u001b[39;49;00m\u001b[43m \u001b[49m\u001b[38;5;28;43mself\u001b[39;49m\u001b[38;5;241;43m.\u001b[39;49m\u001b[43mtraining\u001b[49m\u001b[43m \u001b[49m\u001b[38;5;129;43;01mor\u001b[39;49;00m\u001b[43m \u001b[49m\u001b[38;5;28;43mself\u001b[39;49m\u001b[38;5;241;43m.\u001b[39;49m\u001b[43mtrack_running_stats\u001b[49m\n\u001b[0;32m    180\u001b[0m \u001b[43m    \u001b[49m\u001b[38;5;28;43;01melse\u001b[39;49;00m\u001b[43m \u001b[49m\u001b[38;5;28;43;01mNone\u001b[39;49;00m\u001b[43m,\u001b[49m\n\u001b[0;32m    181\u001b[0m \u001b[43m    \u001b[49m\u001b[38;5;28;43mself\u001b[39;49m\u001b[38;5;241;43m.\u001b[39;49m\u001b[43mrunning_var\u001b[49m\u001b[43m \u001b[49m\u001b[38;5;28;43;01mif\u001b[39;49;00m\u001b[43m \u001b[49m\u001b[38;5;129;43;01mnot\u001b[39;49;00m\u001b[43m \u001b[49m\u001b[38;5;28;43mself\u001b[39;49m\u001b[38;5;241;43m.\u001b[39;49m\u001b[43mtraining\u001b[49m\u001b[43m \u001b[49m\u001b[38;5;129;43;01mor\u001b[39;49;00m\u001b[43m \u001b[49m\u001b[38;5;28;43mself\u001b[39;49m\u001b[38;5;241;43m.\u001b[39;49m\u001b[43mtrack_running_stats\u001b[49m\u001b[43m \u001b[49m\u001b[38;5;28;43;01melse\u001b[39;49;00m\u001b[43m \u001b[49m\u001b[38;5;28;43;01mNone\u001b[39;49;00m\u001b[43m,\u001b[49m\n\u001b[0;32m    182\u001b[0m \u001b[43m    \u001b[49m\u001b[38;5;28;43mself\u001b[39;49m\u001b[38;5;241;43m.\u001b[39;49m\u001b[43mweight\u001b[49m\u001b[43m,\u001b[49m\n\u001b[0;32m    183\u001b[0m \u001b[43m    \u001b[49m\u001b[38;5;28;43mself\u001b[39;49m\u001b[38;5;241;43m.\u001b[39;49m\u001b[43mbias\u001b[49m\u001b[43m,\u001b[49m\n\u001b[0;32m    184\u001b[0m \u001b[43m    \u001b[49m\u001b[43mbn_training\u001b[49m\u001b[43m,\u001b[49m\n\u001b[0;32m    185\u001b[0m \u001b[43m    \u001b[49m\u001b[43mexponential_average_factor\u001b[49m\u001b[43m,\u001b[49m\n\u001b[0;32m    186\u001b[0m \u001b[43m    \u001b[49m\u001b[38;5;28;43mself\u001b[39;49m\u001b[38;5;241;43m.\u001b[39;49m\u001b[43meps\u001b[49m\u001b[43m,\u001b[49m\n\u001b[0;32m    187\u001b[0m \u001b[43m\u001b[49m\u001b[43m)\u001b[49m\n",
            "File \u001b[1;32mc:\\Users\\lando\\AppData\\Local\\Programs\\Python\\Python311\\Lib\\site-packages\\torch\\nn\\functional.py:2482\u001b[0m, in \u001b[0;36mbatch_norm\u001b[1;34m(input, running_mean, running_var, weight, bias, training, momentum, eps)\u001b[0m\n\u001b[0;32m   2479\u001b[0m \u001b[38;5;28;01mif\u001b[39;00m training:\n\u001b[0;32m   2480\u001b[0m     _verify_batch_size(\u001b[38;5;28minput\u001b[39m\u001b[38;5;241m.\u001b[39msize())\n\u001b[1;32m-> 2482\u001b[0m \u001b[38;5;28;01mreturn\u001b[39;00m \u001b[43mtorch\u001b[49m\u001b[38;5;241;43m.\u001b[39;49m\u001b[43mbatch_norm\u001b[49m\u001b[43m(\u001b[49m\n\u001b[0;32m   2483\u001b[0m \u001b[43m    \u001b[49m\u001b[38;5;28;43minput\u001b[39;49m\u001b[43m,\u001b[49m\u001b[43m \u001b[49m\u001b[43mweight\u001b[49m\u001b[43m,\u001b[49m\u001b[43m \u001b[49m\u001b[43mbias\u001b[49m\u001b[43m,\u001b[49m\u001b[43m \u001b[49m\u001b[43mrunning_mean\u001b[49m\u001b[43m,\u001b[49m\u001b[43m \u001b[49m\u001b[43mrunning_var\u001b[49m\u001b[43m,\u001b[49m\u001b[43m \u001b[49m\u001b[43mtraining\u001b[49m\u001b[43m,\u001b[49m\u001b[43m \u001b[49m\u001b[43mmomentum\u001b[49m\u001b[43m,\u001b[49m\u001b[43m \u001b[49m\u001b[43meps\u001b[49m\u001b[43m,\u001b[49m\u001b[43m \u001b[49m\u001b[43mtorch\u001b[49m\u001b[38;5;241;43m.\u001b[39;49m\u001b[43mbackends\u001b[49m\u001b[38;5;241;43m.\u001b[39;49m\u001b[43mcudnn\u001b[49m\u001b[38;5;241;43m.\u001b[39;49m\u001b[43menabled\u001b[49m\n\u001b[0;32m   2484\u001b[0m \u001b[43m\u001b[49m\u001b[43m)\u001b[49m\n",
            "\u001b[1;31mKeyboardInterrupt\u001b[0m: "
          ]
        }
      ],
      "source": [
        "import copy\n",
        "from collections import defaultdict\n",
        "from torch.optim.lr_scheduler import ReduceLROnPlateau\n",
        "import torch.optim as optim\n",
        "\n",
        "\n",
        "\n",
        "#initialize model\n",
        "def init_weights(m, init_type=\"random\"):\n",
        "    if isinstance(m, nn.Conv2d) or isinstance(m, nn.Linear):\n",
        "        if init_type == \"xavier\":\n",
        "            nn.init.xavier_uniform_(m.weight)\n",
        "        else:\n",
        "            nn.init.uniform_(m.weight, -0.1, 0.1)\n",
        "        if m.bias is not None:\n",
        "            nn.init.constant_(m.bias, 0)\n",
        "\n",
        "learning_rates = [.00001, .0001, .001]\n",
        "init_types = [\"random\", \"xavier\"]\n",
        "results = defaultdict(list)\n",
        "my_activation = \"relu\"\n",
        "\n",
        "criterion = nn.CrossEntropyLoss()\n",
        "\n",
        "for init_type in init_types:\n",
        "    for lr in learning_rates:\n",
        "        model = FashionMNISTResNet(input_shape=1, channels=[32, 32], output_shape=10, activation=my_activation, num_layers=2, dropout=.15)\n",
        "        model.apply(lambda m: init_weights(m, init_type=init_type))\n",
        "\n",
        "        #train model\n",
        "        trained_model, best_train_loss, best_val_loss = train_model(model, {'train': train_dataloader, 'val': val_dataloader},\n",
        "                                                   criterion, optimizer='adam',\n",
        "                                                   num_epochs=30, early_stopping_patience=5, visualize=True, lr=lr, init_type=init_type)\n",
        "\n",
        "        #save results\n",
        "        results[init_type].append({'lr': lr, 'best_val_loss': best_val_loss})\n",
        "\n",
        "#visualize\n",
        "for init_type in init_types:\n",
        "    lrs = [result['lr'] for result in results[init_type]]\n",
        "    losses = [result['best_val_loss'] for result in results[init_type]]\n",
        "    plt.plot(lrs, losses, label=f\"{init_type} init\")\n",
        "plt.xscale('log')\n",
        "plt.xlabel('Learning Rate')\n",
        "plt.ylabel('Validation Loss')\n",
        "plt.legend()\n",
        "plt.title('Learning Rate vs. Validation Loss')\n",
        "plt.show()"
      ]
    },
    {
      "cell_type": "markdown",
      "id": "b73161af",
      "metadata": {},
      "source": [
        "Hyperparameter Tuning 1\n",
        "\n",
        "I did explore this hyperparameter with more epochs, but it took a long time to run so after getting an idea of how the results looked. I'm taking it down to 2 epochs because I think that should still do an ok job capturing the effects of the l1 and l2 grid search regularization. \n"
      ]
    },
    {
      "cell_type": "code",
      "execution_count": null,
      "id": "68890608",
      "metadata": {},
      "outputs": [],
      "source": [
        "import torch\n",
        "import torch.nn as nn\n",
        "import torch.optim as optim\n",
        "from torch.optim.lr_scheduler import ReduceLROnPlateau\n",
        "import matplotlib.pyplot as plt\n",
        "import numpy as np\n",
        "from collections import defaultdict\n",
        "\n",
        "lr = 0.0001\n",
        "init_type = 'xavier'\n",
        "\n",
        "\n",
        "#hyperparameters for grid search\n",
        "l1_values = np.logspace(-4, -1, 10)\n",
        "l2_values = np.logspace(-4, -1, 10)\n",
        "\n",
        "results = defaultdict(lambda: defaultdict(dict))\n",
        "\n",
        "for l1_strength in l1_values:\n",
        "    print(f\"Training with L1 strength: {l1_strength}\")\n",
        "    for l2_strength in l2_values:\n",
        "        print(f\"Training with L2 strength: {l2_strength}\")\n",
        "        model = FashionMNISTResNet(input_shape=1, channels=[64, 64], output_shape=10, num_layers=2, activation=my_activation, dropout=0)  \n",
        "        model.apply(lambda m: init_weights(m, init_type='xavier'))\n",
        "\n",
        "        #train model with L1 regularization\n",
        "        trained_model, train_loss, val_loss = train_model(model, {'train': train_dataloader, 'val': val_dataloader},\n",
        "                                                          criterion, optimizer='adam', num_epochs=2, lr=lr, init_type=init_type, l1_strength=l1_strength, early_stopping_patience=5, visualize=False)\n",
        "\n",
        "        #store results\n",
        "        results[l1_strength][l2_strength]['train_loss'] = train_loss\n",
        "        results[l1_strength][l2_strength]['val_loss'] = val_loss\n",
        "\n",
        "#convert results to numpy arrays for plotting\n",
        "train_losses = np.array([[results[l1][l2]['train_loss'] for l2 in l2_values] for l1 in l1_values])\n",
        "val_losses = np.array([[results[l1][l2]['val_loss'] for l2 in l2_values] for l1 in l1_values])\n",
        "\n",
        "#plotting\n",
        "fig, ax = plt.subplots(1, 3, figsize=(18, 6))\n",
        "c1 = ax[0].imshow(train_losses, cmap='viridis', aspect='auto')\n",
        "ax[0].set_title('Training Loss')\n",
        "fig.colorbar(c1, ax=ax[0])\n",
        "\n",
        "c2 = ax[1].imshow(val_losses, cmap='viridis', aspect='auto')\n",
        "ax[1].set_title('Validation Loss')\n",
        "fig.colorbar(c2, ax=ax[1])\n",
        "\n",
        "#plot ratio or difference\n",
        "ratio = val_losses / train_losses\n",
        "c3 = ax[2].imshow(ratio, cmap='viridis', aspect='auto')\n",
        "ax[2].set_title('Validation/Training Loss Ratio')\n",
        "fig.colorbar(c3, ax=ax[2])\n",
        "\n",
        "plt.show()"
      ]
    },
    {
      "cell_type": "markdown",
      "id": "3404a973",
      "metadata": {},
      "source": [
        "Hyperparameter Tuning 2\n"
      ]
    },
    {
      "cell_type": "code",
      "execution_count": null,
      "id": "a1758d6e",
      "metadata": {},
      "outputs": [],
      "source": [
        "import matplotlib.pyplot as plt\n",
        "import numpy as np\n",
        "from collections import defaultdict\n",
        "\n",
        "#10 values for dropout\n",
        "dropout_values = np.linspace(0, 0.9, 10)  \n",
        "results = defaultdict(dict)  \n",
        "\n",
        "for dropout_rate in dropout_values:\n",
        "    #init based on hyperparameter choice 2\n",
        "    model = FashionMNISTResNet(input_shape=1, channels=[96, 96, 96], output_shape=10, num_layers=2, activation='sigmoid', dropout=dropout_rate)\n",
        "    model.apply(lambda m: init_weights(m, init_type='xavier')) \n",
        "\n",
        "    optimizer = 'rmsprop'\n",
        "\n",
        "    #train\n",
        "    trained_model, train_loss, val_loss = train_model(\n",
        "        model,\n",
        "        {'train': train_dataloader, 'val': val_dataloader},  \n",
        "        criterion,\n",
        "        optimizer=optimizer,\n",
        "        num_epochs=10,\n",
        "        early_stopping_patience=5,\n",
        "        visualize=False,\n",
        "        l1_strength=0.0,\n",
        "        l2_strength=0.0,\n",
        "    )\n",
        "\n",
        "    #save results\n",
        "    results[dropout_rate]['train_loss'] = train_loss\n",
        "    results[dropout_rate]['val_loss'] = val_loss\n",
        "\n",
        "dropout_rates = np.array(list(results.keys()))\n",
        "train_losses = np.array([results[rate]['train_loss'] for rate in dropout_rates])\n",
        "val_losses = np.array([results[rate]['val_loss'] for rate in dropout_rates])\n",
        "\n",
        "plt.figure(figsize=(10, 5))\n",
        "\n",
        "#training loss plot\n",
        "plt.subplot(1, 2, 1)\n",
        "plt.plot(dropout_rates, train_losses, marker='o', label='Training Loss')\n",
        "plt.xlabel('Dropout Rate')\n",
        "plt.ylabel('Loss')\n",
        "plt.title('Training Loss vs. Dropout Rate')\n",
        "plt.legend()\n",
        "\n",
        "#validation loss plot\n",
        "plt.subplot(1, 2, 2)\n",
        "plt.plot(dropout_rates, val_losses, marker='o', color='r', label='Validation Loss')\n",
        "plt.xlabel('Dropout Rate')\n",
        "plt.ylabel('Loss')\n",
        "plt.title('Validation Loss vs. Dropout Rate')\n",
        "plt.legend()\n",
        "\n",
        "plt.tight_layout()\n",
        "plt.show()\n",
        "\n",
        "#plotting the ratio\n",
        "ratio = val_losses / train_losses \n",
        "plt.figure(figsize=(5, 5))\n",
        "plt.plot(dropout_rates, ratio, marker='o', color='g', label='Val/Train Loss Ratio')\n",
        "plt.xlabel('Dropout Rate')\n",
        "plt.ylabel('Ratio')\n",
        "plt.title('Validation/Training Loss Ratio vs. Dropout Rate')\n",
        "plt.legend()\n",
        "plt.show()"
      ]
    },
    {
      "cell_type": "markdown",
      "id": "e9a60a61",
      "metadata": {},
      "source": [
        "Hyperparameter Tuning 3\n"
      ]
    },
    {
      "cell_type": "code",
      "execution_count": null,
      "id": "ed67e713",
      "metadata": {},
      "outputs": [],
      "source": [
        "import matplotlib.pyplot as plt\n",
        "import numpy as np\n",
        "from collections import defaultdict\n",
        "\n",
        "#10 values for dropout\n",
        "dropout_values = np.linspace(0, 0.9, 10)  \n",
        "results = defaultdict(dict)  \n",
        "\n",
        "for dropout_rate in dropout_values:\n",
        "    #init based on hyperparameter choice 2\n",
        "    model = FashionMNISTResNet(input_shape=1, channels=[96, 96, 96], output_shape=10, num_layers=2, activation='relu', dropout=dropout_rate)\n",
        "    model.apply(lambda m: init_weights(m, init_type='xavier'))  \n",
        "\n",
        "    optimizer = 'adam'\n",
        "\n",
        "    #train\n",
        "    trained_model, train_loss, val_loss = train_model(\n",
        "        model,\n",
        "        {'train': train_dataloader, 'val': val_dataloader},  \n",
        "        criterion,\n",
        "        optimizer=optimizer,\n",
        "        num_epochs=10,\n",
        "        early_stopping_patience=5,\n",
        "        visualize=False,\n",
        "        l1_strength=0.0,\n",
        "        l2_strength=0.0,\n",
        "    )\n",
        "\n",
        "    #save results\n",
        "    results[dropout_rate]['train_loss'] = train_loss\n",
        "    results[dropout_rate]['val_loss'] = val_loss\n",
        "\n",
        "dropout_rates = np.array(list(results.keys()))\n",
        "train_losses = np.array([results[rate]['train_loss'] for rate in dropout_rates])\n",
        "val_losses = np.array([results[rate]['val_loss'] for rate in dropout_rates])\n",
        "\n",
        "plt.figure(figsize=(10, 5))\n",
        "\n",
        "#training loss plot\n",
        "plt.subplot(1, 2, 1)\n",
        "plt.plot(dropout_rates, train_losses, marker='o', label='Training Loss')\n",
        "plt.xlabel('Dropout Rate')\n",
        "plt.ylabel('Loss')\n",
        "plt.title('Training Loss vs. Dropout Rate')\n",
        "plt.legend()\n",
        "\n",
        "#validation loss plot\n",
        "plt.subplot(1, 2, 2)\n",
        "plt.plot(dropout_rates, val_losses, marker='o', color='r', label='Validation Loss')\n",
        "plt.xlabel('Dropout Rate')\n",
        "plt.ylabel('Loss')\n",
        "plt.title('Validation Loss vs. Dropout Rate')\n",
        "plt.legend()\n",
        "\n",
        "plt.tight_layout()\n",
        "plt.show()\n",
        "\n",
        "#plotting the ratio\n",
        "ratio = val_losses / train_losses \n",
        "plt.figure(figsize=(5, 5))\n",
        "plt.plot(dropout_rates, ratio, marker='o', color='g', label='Val/Train Loss Ratio')\n",
        "plt.xlabel('Dropout Rate')\n",
        "plt.ylabel('Ratio')\n",
        "plt.title('Validation/Training Loss Ratio vs. Dropout Rate')\n",
        "plt.legend()\n",
        "plt.show()"
      ]
    },
    {
      "cell_type": "markdown",
      "id": "cfc5b365",
      "metadata": {},
      "source": [
        "# Bonus assignment\n",
        "\n",
        "`+5 bonus points`\n",
        "\n",
        "`You DO NOT need to do this if you don't want to`\n",
        "\n",
        "* Once the data is collected, this HW should be quite easy, since most of the code can be recycled from the labs & textbook.\n",
        "\n",
        "* Do this in a file called `bonus.ipynb`, have it save its results to a folder \"data\"\n",
        "\n",
        "`Data collection`\n",
        "\n",
        "* Develope a text based classification data-set:\n",
        "* Use the Wikipedia API to search for articles to generate the data-set\n",
        "* Select a set of highly different topics (i.e. labels), for example,\n",
        "  * multi-class case: y=(pizza, oak_trees, basketball, ... , etc)=(0,1,2, ... , N-1)\n",
        "  * You don't have to use these, you can use whatever labels you want\n",
        "  * `Have AT LEAST 10 labels.`\n",
        "  * The more different the topics, the easier the classification task should be\n",
        "* Search for Wikipedia pages about these topics and harvest the text from the pages.\n",
        "* Do some basic text cleaning as needed.\n",
        "  * e.g. use the NLTK sentence tokenizer to break the text into sentences.\n",
        "  * Then form chunks of text that are five sentences long as your \"inputs\".\n",
        "* The \"label\" for these chunks will be the search label used to find the text.\n",
        "* The data set will not be perfect.\n",
        "  * There will be chunks of text that are not related to the topic (i.e. noise).\n",
        "  * However that is just something we have to live with.\n",
        "* **Important**: Always start small when writing & debugging THEN scale up.\n",
        "* The more chunks of text you have the better.\n",
        "  * Save the text and labels to the same format used by the textbook, that way you can recycle your lab code seamlessly.\n",
        "* `Optional practice`: You can also \"tag\" each chunk of text with an associated \"compound\" sentiment score computed using the NLTK sentiment analysis. From this you can train a regression model in part-2. This is somewhat silly, and is just for educational purposes, since your using a model output to train another model.\n",
        "\n",
        "`Model training`\n",
        "\n",
        "* Repeat the model training and hyper-parameter tuning exercise for MNIST, but with your text.\n"
      ]
    }
  ],
  "metadata": {
    "kernelspec": {
      "display_name": "Python 3 (ipykernel)",
      "language": "python",
      "name": "python3"
    },
    "language_info": {
      "codemirror_mode": {
        "name": "ipython",
        "version": 3
      },
      "file_extension": ".py",
      "mimetype": "text/x-python",
      "name": "python",
      "nbconvert_exporter": "python",
      "pygments_lexer": "ipython3",
      "version": "3.11.8"
    }
  },
  "nbformat": 4,
  "nbformat_minor": 5
}
